{
 "cells": [
  {
   "cell_type": "code",
   "execution_count": 1,
   "id": "e8c82804",
   "metadata": {},
   "outputs": [],
   "source": [
    "import numpy as np\n",
    "import pandas as pd\n",
    "import seaborn as sns\n",
    "import math\n",
    "import matplotlib.pyplot as plt\n",
    "\n",
    "import wrangle as w\n",
    "import explore as e\n",
    "import env\n",
    "\n",
    "from sklearn.model_selection import train_test_split\n",
    "from sklearn.feature_selection import SelectKBest, RFE, f_regression, SequentialFeatureSelector\n",
    "from sklearn.linear_model import LinearRegression, LassoLars, TweedieRegressor\n",
    "from sklearn.metrics import mean_squared_error\n",
    "from sklearn.preprocessing import MinMaxScaler, StandardScaler, RobustScaler, QuantileTransformer, PolynomialFeatures\n",
    "\n",
    "import warnings\n",
    "warnings.filterwarnings(\"ignore\")"
   ]
  },
  {
   "cell_type": "code",
   "execution_count": 2,
   "id": "3dda099b",
   "metadata": {},
   "outputs": [],
   "source": [
    "#a = w.get_new_zillow_data()"
   ]
  },
  {
   "cell_type": "code",
   "execution_count": 3,
   "id": "0388c86d",
   "metadata": {},
   "outputs": [],
   "source": [
    "#a.info()"
   ]
  },
  {
   "cell_type": "code",
   "execution_count": 4,
   "id": "a10ca0ff",
   "metadata": {},
   "outputs": [],
   "source": [
    "df = w.wrangle_zillow()"
   ]
  },
  {
   "cell_type": "code",
   "execution_count": 5,
   "id": "ca27c07f",
   "metadata": {},
   "outputs": [
    {
     "data": {
      "text/html": [
       "<div>\n",
       "<style scoped>\n",
       "    .dataframe tbody tr th:only-of-type {\n",
       "        vertical-align: middle;\n",
       "    }\n",
       "\n",
       "    .dataframe tbody tr th {\n",
       "        vertical-align: top;\n",
       "    }\n",
       "\n",
       "    .dataframe thead th {\n",
       "        text-align: right;\n",
       "    }\n",
       "</style>\n",
       "<table border=\"1\" class=\"dataframe\">\n",
       "  <thead>\n",
       "    <tr style=\"text-align: right;\">\n",
       "      <th></th>\n",
       "      <th>bedrooms</th>\n",
       "      <th>bathrooms</th>\n",
       "      <th>sq_feet</th>\n",
       "      <th>tax_value</th>\n",
       "      <th>year_built</th>\n",
       "      <th>tax_amount</th>\n",
       "      <th>fips</th>\n",
       "    </tr>\n",
       "  </thead>\n",
       "  <tbody>\n",
       "    <tr>\n",
       "      <th>0</th>\n",
       "      <td>4</td>\n",
       "      <td>3.5</td>\n",
       "      <td>3100</td>\n",
       "      <td>1023282</td>\n",
       "      <td>1998</td>\n",
       "      <td>11013.72</td>\n",
       "      <td>6059</td>\n",
       "    </tr>\n",
       "    <tr>\n",
       "      <th>1</th>\n",
       "      <td>2</td>\n",
       "      <td>1.0</td>\n",
       "      <td>1465</td>\n",
       "      <td>464000</td>\n",
       "      <td>1967</td>\n",
       "      <td>5672.48</td>\n",
       "      <td>6111</td>\n",
       "    </tr>\n",
       "    <tr>\n",
       "      <th>2</th>\n",
       "      <td>3</td>\n",
       "      <td>2.0</td>\n",
       "      <td>1243</td>\n",
       "      <td>564778</td>\n",
       "      <td>1962</td>\n",
       "      <td>6488.30</td>\n",
       "      <td>6059</td>\n",
       "    </tr>\n",
       "    <tr>\n",
       "      <th>3</th>\n",
       "      <td>4</td>\n",
       "      <td>3.0</td>\n",
       "      <td>2376</td>\n",
       "      <td>145143</td>\n",
       "      <td>1970</td>\n",
       "      <td>1777.51</td>\n",
       "      <td>6037</td>\n",
       "    </tr>\n",
       "    <tr>\n",
       "      <th>4</th>\n",
       "      <td>4</td>\n",
       "      <td>3.0</td>\n",
       "      <td>2962</td>\n",
       "      <td>773303</td>\n",
       "      <td>1950</td>\n",
       "      <td>9516.26</td>\n",
       "      <td>6037</td>\n",
       "    </tr>\n",
       "  </tbody>\n",
       "</table>\n",
       "</div>"
      ],
      "text/plain": [
       "   bedrooms  bathrooms  sq_feet  tax_value  year_built  tax_amount  fips\n",
       "0         4        3.5     3100    1023282        1998    11013.72  6059\n",
       "1         2        1.0     1465     464000        1967     5672.48  6111\n",
       "2         3        2.0     1243     564778        1962     6488.30  6059\n",
       "3         4        3.0     2376     145143        1970     1777.51  6037\n",
       "4         4        3.0     2962     773303        1950     9516.26  6037"
      ]
     },
     "execution_count": 5,
     "metadata": {},
     "output_type": "execute_result"
    }
   ],
   "source": [
    "df.head()"
   ]
  },
  {
   "cell_type": "code",
   "execution_count": 6,
   "id": "b31f33db",
   "metadata": {
    "scrolled": true
   },
   "outputs": [
    {
     "name": "stdout",
     "output_type": "stream",
     "text": [
      "<class 'pandas.core.frame.DataFrame'>\n",
      "RangeIndex: 50790 entries, 0 to 50789\n",
      "Data columns (total 7 columns):\n",
      " #   Column      Non-Null Count  Dtype  \n",
      "---  ------      --------------  -----  \n",
      " 0   bedrooms    50790 non-null  int64  \n",
      " 1   bathrooms   50790 non-null  float64\n",
      " 2   sq_feet     50790 non-null  int64  \n",
      " 3   tax_value   50790 non-null  int64  \n",
      " 4   year_built  50790 non-null  int64  \n",
      " 5   tax_amount  50790 non-null  float64\n",
      " 6   fips        50790 non-null  int64  \n",
      "dtypes: float64(2), int64(5)\n",
      "memory usage: 2.7 MB\n"
     ]
    }
   ],
   "source": [
    "df.info()"
   ]
  },
  {
   "cell_type": "code",
   "execution_count": 7,
   "id": "a5825e38",
   "metadata": {},
   "outputs": [],
   "source": [
    "train, validate, test = w.split_data(df)"
   ]
  },
  {
   "cell_type": "code",
   "execution_count": 8,
   "id": "e2531890",
   "metadata": {},
   "outputs": [],
   "source": [
    "train_scaled, validate_scaled, test_scaled = w.scale_data(train, validate, test)"
   ]
  },
  {
   "cell_type": "code",
   "execution_count": 9,
   "id": "9c5db020",
   "metadata": {
    "scrolled": true
   },
   "outputs": [
    {
     "data": {
      "text/html": [
       "<div>\n",
       "<style scoped>\n",
       "    .dataframe tbody tr th:only-of-type {\n",
       "        vertical-align: middle;\n",
       "    }\n",
       "\n",
       "    .dataframe tbody tr th {\n",
       "        vertical-align: top;\n",
       "    }\n",
       "\n",
       "    .dataframe thead th {\n",
       "        text-align: right;\n",
       "    }\n",
       "</style>\n",
       "<table border=\"1\" class=\"dataframe\">\n",
       "  <thead>\n",
       "    <tr style=\"text-align: right;\">\n",
       "      <th></th>\n",
       "      <th>bedrooms</th>\n",
       "      <th>bathrooms</th>\n",
       "      <th>sq_feet</th>\n",
       "      <th>tax_value</th>\n",
       "      <th>year_built</th>\n",
       "      <th>tax_amount</th>\n",
       "      <th>fips</th>\n",
       "    </tr>\n",
       "  </thead>\n",
       "  <tbody>\n",
       "    <tr>\n",
       "      <th>8096</th>\n",
       "      <td>0.500000</td>\n",
       "      <td>0.333333</td>\n",
       "      <td>0.162985</td>\n",
       "      <td>206483</td>\n",
       "      <td>1983</td>\n",
       "      <td>0.036235</td>\n",
       "      <td>6111</td>\n",
       "    </tr>\n",
       "    <tr>\n",
       "      <th>45007</th>\n",
       "      <td>0.333333</td>\n",
       "      <td>0.166667</td>\n",
       "      <td>0.152955</td>\n",
       "      <td>110048</td>\n",
       "      <td>1970</td>\n",
       "      <td>0.023914</td>\n",
       "      <td>6037</td>\n",
       "    </tr>\n",
       "    <tr>\n",
       "      <th>43774</th>\n",
       "      <td>0.500000</td>\n",
       "      <td>0.333333</td>\n",
       "      <td>0.171701</td>\n",
       "      <td>82423</td>\n",
       "      <td>1956</td>\n",
       "      <td>0.018175</td>\n",
       "      <td>6059</td>\n",
       "    </tr>\n",
       "  </tbody>\n",
       "</table>\n",
       "</div>"
      ],
      "text/plain": [
       "       bedrooms  bathrooms   sq_feet  tax_value  year_built  tax_amount  fips\n",
       "8096   0.500000   0.333333  0.162985     206483        1983    0.036235  6111\n",
       "45007  0.333333   0.166667  0.152955     110048        1970    0.023914  6037\n",
       "43774  0.500000   0.333333  0.171701      82423        1956    0.018175  6059"
      ]
     },
     "execution_count": 9,
     "metadata": {},
     "output_type": "execute_result"
    }
   ],
   "source": [
    "train_scaled.head(3)"
   ]
  },
  {
   "cell_type": "code",
   "execution_count": 10,
   "id": "59af4b20",
   "metadata": {},
   "outputs": [
    {
     "data": {
      "text/plain": [
       "bedrooms      float64\n",
       "bathrooms     float64\n",
       "sq_feet       float64\n",
       "tax_value       int64\n",
       "year_built      int64\n",
       "tax_amount    float64\n",
       "fips            int64\n",
       "dtype: object"
      ]
     },
     "execution_count": 10,
     "metadata": {},
     "output_type": "execute_result"
    }
   ],
   "source": [
    "train_scaled.dtypes"
   ]
  },
  {
   "cell_type": "code",
   "execution_count": 11,
   "id": "45171231",
   "metadata": {},
   "outputs": [],
   "source": [
    "#x_cols = train_scaled[['bedrooms','bathrooms','sq_feet']]"
   ]
  },
  {
   "cell_type": "code",
   "execution_count": 12,
   "id": "b63f3203",
   "metadata": {},
   "outputs": [],
   "source": [
    "#y_cols = train_scaled.tax_value"
   ]
  },
  {
   "cell_type": "code",
   "execution_count": 13,
   "id": "a53f8e27",
   "metadata": {},
   "outputs": [],
   "source": [
    "#x_cols.dtypes"
   ]
  },
  {
   "cell_type": "code",
   "execution_count": 14,
   "id": "c063507d",
   "metadata": {},
   "outputs": [],
   "source": [
    "#y_cols.dtypes"
   ]
  },
  {
   "cell_type": "code",
   "execution_count": 15,
   "id": "a305c970",
   "metadata": {},
   "outputs": [],
   "source": [
    "#x_cols_list = list(x_cols)"
   ]
  },
  {
   "cell_type": "code",
   "execution_count": 16,
   "id": "3437429b",
   "metadata": {},
   "outputs": [],
   "source": [
    "#x_cols[x_cols_list[0]]"
   ]
  },
  {
   "cell_type": "code",
   "execution_count": 17,
   "id": "6c6762ef",
   "metadata": {},
   "outputs": [],
   "source": [
    "#for i in x_cols[1:]:\n",
    "#    print(i)\n",
    " #   plt.figure()\n",
    "  #  plt.plot(y_cols,x_cols[i])\n",
    "  #  plt.show()"
   ]
  },
  {
   "cell_type": "code",
   "execution_count": 18,
   "id": "e73b18fc",
   "metadata": {
    "scrolled": true
   },
   "outputs": [],
   "source": [
    "#e.plot_categorical_and_continuous_vars(train_scaled, x_cols,y_cols)"
   ]
  },
  {
   "cell_type": "code",
   "execution_count": 19,
   "id": "0c219fe0",
   "metadata": {
    "scrolled": false
   },
   "outputs": [],
   "source": [
    "#e.plot_variable_pairs(x_cols, y_cols)"
   ]
  },
  {
   "cell_type": "code",
   "execution_count": 20,
   "id": "c0ca38a1",
   "metadata": {},
   "outputs": [],
   "source": [
    "#x_cols['bedrooms']"
   ]
  },
  {
   "cell_type": "code",
   "execution_count": 21,
   "id": "87e0998d",
   "metadata": {},
   "outputs": [],
   "source": [
    "x_train_scaled = train_scaled[['bedrooms', 'bathrooms', 'sq_feet']]\n",
    "y_train = train[['tax_value']]\n",
    "\n",
    "x_validate_scaled = validate_scaled[['bedrooms', 'bathrooms', 'sq_feet']]\n",
    "y_validate = validate[['tax_value']]\n",
    "\n",
    "x_test_scaled = test_scaled[['bedrooms', 'bathrooms', 'sq_feet']]\n",
    "y_test = test[['tax_value']]"
   ]
  },
  {
   "cell_type": "code",
   "execution_count": 22,
   "id": "afdedd6e",
   "metadata": {},
   "outputs": [
    {
     "data": {
      "text/html": [
       "<div>\n",
       "<style scoped>\n",
       "    .dataframe tbody tr th:only-of-type {\n",
       "        vertical-align: middle;\n",
       "    }\n",
       "\n",
       "    .dataframe tbody tr th {\n",
       "        vertical-align: top;\n",
       "    }\n",
       "\n",
       "    .dataframe thead th {\n",
       "        text-align: right;\n",
       "    }\n",
       "</style>\n",
       "<table border=\"1\" class=\"dataframe\">\n",
       "  <thead>\n",
       "    <tr style=\"text-align: right;\">\n",
       "      <th></th>\n",
       "      <th>tax_value</th>\n",
       "    </tr>\n",
       "  </thead>\n",
       "  <tbody>\n",
       "    <tr>\n",
       "      <th>8096</th>\n",
       "      <td>206483</td>\n",
       "    </tr>\n",
       "    <tr>\n",
       "      <th>45007</th>\n",
       "      <td>110048</td>\n",
       "    </tr>\n",
       "    <tr>\n",
       "      <th>43774</th>\n",
       "      <td>82423</td>\n",
       "    </tr>\n",
       "    <tr>\n",
       "      <th>1082</th>\n",
       "      <td>373151</td>\n",
       "    </tr>\n",
       "    <tr>\n",
       "      <th>13597</th>\n",
       "      <td>1430885</td>\n",
       "    </tr>\n",
       "  </tbody>\n",
       "</table>\n",
       "</div>"
      ],
      "text/plain": [
       "       tax_value\n",
       "8096      206483\n",
       "45007     110048\n",
       "43774      82423\n",
       "1082      373151\n",
       "13597    1430885"
      ]
     },
     "execution_count": 22,
     "metadata": {},
     "output_type": "execute_result"
    }
   ],
   "source": [
    "y_train.head()"
   ]
  },
  {
   "cell_type": "markdown",
   "id": "1d4542b1",
   "metadata": {},
   "source": [
    "# Modeling AND Evaluation"
   ]
  },
  {
   "cell_type": "markdown",
   "id": "6bc86801",
   "metadata": {},
   "source": [
    "# Baseline"
   ]
  },
  {
   "cell_type": "code",
   "execution_count": 23,
   "id": "cafc138b",
   "metadata": {},
   "outputs": [],
   "source": [
    "def get_baseline(x_train_scaled, y_train):\n",
    "    y_train['tax_value_pred_mean']= y_train['tax_value'].mean()\n",
    "    y_validate['tax_value_pred_mean']= y_validate['tax_value'].mean()\n",
    "\n",
    "    y_train['tax_value_pred_median'] = y_train['tax_value'].median()\n",
    "    y_validate['tax_value_pred_median'] = y_validate['tax_value'].median()\n",
    "\n",
    "    rmse_train = mean_squared_error(y_train.tax_value, y_train.tax_value_pred_mean)**(1/2)\n",
    "    rmse_validate = mean_squared_error(y_validate.tax_value, y_validate.tax_value_pred_mean)**(1/2)\n",
    "\n",
    "    print(\"RMSE using Mean\\nTrain/In-Sample: \", round(rmse_train, 2), \n",
    "          \"\\nValidate/Out-of-Sample: \", round(rmse_validate, 2))\n",
    "    \n",
    "    rmse_train = mean_squared_error(y_train.tax_value, y_train.tax_value_pred_median)**(1/2)\n",
    "    rmse_validate = mean_squared_error(y_validate.tax_value, y_validate.tax_value_pred_median)**(1/2)\n",
    "\n",
    "    print(\"RMSE using Median\\nTrain/In-Sample: \", round(rmse_train, 2), \n",
    "          \"\\nValidate/Out-of-Sample: \", round(rmse_validate, 2))"
   ]
  },
  {
   "cell_type": "code",
   "execution_count": 24,
   "id": "6cd54e5b",
   "metadata": {},
   "outputs": [
    {
     "name": "stdout",
     "output_type": "stream",
     "text": [
      "RMSE using Mean\n",
      "Train/In-Sample:  355371.19 \n",
      "Validate/Out-of-Sample:  347152.8\n",
      "RMSE using Median\n",
      "Train/In-Sample:  364925.59 \n",
      "Validate/Out-of-Sample:  355040.41\n"
     ]
    }
   ],
   "source": [
    "get_baseline(x_train_scaled, y_train)"
   ]
  },
  {
   "cell_type": "code",
   "execution_count": 25,
   "id": "35fd8b66",
   "metadata": {},
   "outputs": [
    {
     "data": {
      "text/html": [
       "<div>\n",
       "<style scoped>\n",
       "    .dataframe tbody tr th:only-of-type {\n",
       "        vertical-align: middle;\n",
       "    }\n",
       "\n",
       "    .dataframe tbody tr th {\n",
       "        vertical-align: top;\n",
       "    }\n",
       "\n",
       "    .dataframe thead th {\n",
       "        text-align: right;\n",
       "    }\n",
       "</style>\n",
       "<table border=\"1\" class=\"dataframe\">\n",
       "  <thead>\n",
       "    <tr style=\"text-align: right;\">\n",
       "      <th></th>\n",
       "      <th>tax_value</th>\n",
       "      <th>tax_value_pred_mean</th>\n",
       "      <th>tax_value_pred_median</th>\n",
       "    </tr>\n",
       "  </thead>\n",
       "  <tbody>\n",
       "    <tr>\n",
       "      <th>8096</th>\n",
       "      <td>206483</td>\n",
       "      <td>445957.819914</td>\n",
       "      <td>363000.0</td>\n",
       "    </tr>\n",
       "    <tr>\n",
       "      <th>45007</th>\n",
       "      <td>110048</td>\n",
       "      <td>445957.819914</td>\n",
       "      <td>363000.0</td>\n",
       "    </tr>\n",
       "    <tr>\n",
       "      <th>43774</th>\n",
       "      <td>82423</td>\n",
       "      <td>445957.819914</td>\n",
       "      <td>363000.0</td>\n",
       "    </tr>\n",
       "    <tr>\n",
       "      <th>1082</th>\n",
       "      <td>373151</td>\n",
       "      <td>445957.819914</td>\n",
       "      <td>363000.0</td>\n",
       "    </tr>\n",
       "    <tr>\n",
       "      <th>13597</th>\n",
       "      <td>1430885</td>\n",
       "      <td>445957.819914</td>\n",
       "      <td>363000.0</td>\n",
       "    </tr>\n",
       "  </tbody>\n",
       "</table>\n",
       "</div>"
      ],
      "text/plain": [
       "       tax_value  tax_value_pred_mean  tax_value_pred_median\n",
       "8096      206483        445957.819914               363000.0\n",
       "45007     110048        445957.819914               363000.0\n",
       "43774      82423        445957.819914               363000.0\n",
       "1082      373151        445957.819914               363000.0\n",
       "13597    1430885        445957.819914               363000.0"
      ]
     },
     "execution_count": 25,
     "metadata": {},
     "output_type": "execute_result"
    }
   ],
   "source": [
    "y_train.head()"
   ]
  },
  {
   "cell_type": "markdown",
   "id": "6c1a54a3",
   "metadata": {},
   "source": [
    "# LinearRegression (OLS)"
   ]
  },
  {
   "cell_type": "code",
   "execution_count": 26,
   "id": "d177d1e9",
   "metadata": {},
   "outputs": [],
   "source": [
    "def get_ols(x_train_scaled, y_train):\n",
    "    # create the model object\n",
    "    lm = LinearRegression(normalize=True)\n",
    "\n",
    "    # fit the model to our training data. We must specify the column in y_train, \n",
    "    # since we have converted it to a dataframe from a series! \n",
    "    lm.fit(x_train_scaled, y_train.tax_value)\n",
    "\n",
    "    # predict train\n",
    "    y_train['tax_value_pred_lm'] = lm.predict(x_train_scaled)\n",
    "\n",
    "    # evaluate: rmse\n",
    "    rmse_train = mean_squared_error(y_train.tax_value, y_train.tax_value_pred_lm)**(1/2)\n",
    "\n",
    "    # predict validate\n",
    "    y_validate['tax_value_pred_lm'] = lm.predict(x_validate_scaled)\n",
    "\n",
    "    # evaluate: rmse\n",
    "    rmse_validate = mean_squared_error(y_validate.tax_value, y_validate.tax_value_pred_lm)**(1/2)\n",
    "\n",
    "    print(\"RMSE for OLS using LinearRegression\\nTraining/In-Sample: \", rmse_train, \n",
    "          \"\\nValidation/Out-of-Sample: \", rmse_validate)"
   ]
  },
  {
   "cell_type": "code",
   "execution_count": 27,
   "id": "f4681bbb",
   "metadata": {},
   "outputs": [
    {
     "name": "stdout",
     "output_type": "stream",
     "text": [
      "RMSE for OLS using LinearRegression\n",
      "Training/In-Sample:  286205.31265758 \n",
      "Validation/Out-of-Sample:  281570.92470836977\n"
     ]
    }
   ],
   "source": [
    "get_ols(x_train_scaled, y_train)"
   ]
  },
  {
   "cell_type": "code",
   "execution_count": 28,
   "id": "744f2bb3",
   "metadata": {},
   "outputs": [
    {
     "data": {
      "text/html": [
       "<div>\n",
       "<style scoped>\n",
       "    .dataframe tbody tr th:only-of-type {\n",
       "        vertical-align: middle;\n",
       "    }\n",
       "\n",
       "    .dataframe tbody tr th {\n",
       "        vertical-align: top;\n",
       "    }\n",
       "\n",
       "    .dataframe thead th {\n",
       "        text-align: right;\n",
       "    }\n",
       "</style>\n",
       "<table border=\"1\" class=\"dataframe\">\n",
       "  <thead>\n",
       "    <tr style=\"text-align: right;\">\n",
       "      <th></th>\n",
       "      <th>tax_value</th>\n",
       "      <th>tax_value_pred_mean</th>\n",
       "      <th>tax_value_pred_median</th>\n",
       "      <th>tax_value_pred_lm</th>\n",
       "    </tr>\n",
       "  </thead>\n",
       "  <tbody>\n",
       "    <tr>\n",
       "      <th>8096</th>\n",
       "      <td>206483</td>\n",
       "      <td>445957.819914</td>\n",
       "      <td>363000.0</td>\n",
       "      <td>3.927581e+05</td>\n",
       "    </tr>\n",
       "    <tr>\n",
       "      <th>45007</th>\n",
       "      <td>110048</td>\n",
       "      <td>445957.819914</td>\n",
       "      <td>363000.0</td>\n",
       "      <td>3.825737e+05</td>\n",
       "    </tr>\n",
       "    <tr>\n",
       "      <th>43774</th>\n",
       "      <td>82423</td>\n",
       "      <td>445957.819914</td>\n",
       "      <td>363000.0</td>\n",
       "      <td>4.103669e+05</td>\n",
       "    </tr>\n",
       "    <tr>\n",
       "      <th>1082</th>\n",
       "      <td>373151</td>\n",
       "      <td>445957.819914</td>\n",
       "      <td>363000.0</td>\n",
       "      <td>2.477532e+05</td>\n",
       "    </tr>\n",
       "    <tr>\n",
       "      <th>13597</th>\n",
       "      <td>1430885</td>\n",
       "      <td>445957.819914</td>\n",
       "      <td>363000.0</td>\n",
       "      <td>1.416496e+06</td>\n",
       "    </tr>\n",
       "  </tbody>\n",
       "</table>\n",
       "</div>"
      ],
      "text/plain": [
       "       tax_value  tax_value_pred_mean  tax_value_pred_median  \\\n",
       "8096      206483        445957.819914               363000.0   \n",
       "45007     110048        445957.819914               363000.0   \n",
       "43774      82423        445957.819914               363000.0   \n",
       "1082      373151        445957.819914               363000.0   \n",
       "13597    1430885        445957.819914               363000.0   \n",
       "\n",
       "       tax_value_pred_lm  \n",
       "8096        3.927581e+05  \n",
       "45007       3.825737e+05  \n",
       "43774       4.103669e+05  \n",
       "1082        2.477532e+05  \n",
       "13597       1.416496e+06  "
      ]
     },
     "execution_count": 28,
     "metadata": {},
     "output_type": "execute_result"
    }
   ],
   "source": [
    "y_train.head()"
   ]
  },
  {
   "cell_type": "markdown",
   "id": "cdf10b6a",
   "metadata": {},
   "source": [
    "# Lars"
   ]
  },
  {
   "cell_type": "code",
   "execution_count": 29,
   "id": "cbea3dd0",
   "metadata": {},
   "outputs": [],
   "source": [
    "def get_lars(x_train_scaled, y_train):\n",
    "    lars = LassoLars(alpha=1.0)\n",
    "    #scaler = MinMaxScaler()\n",
    "    #x_train_scaled = x_train_scaled.copy()\n",
    "    #x_train_scaled[['bedrooms','bathrooms','sq_feet','year_built','tax_amount','fips']] = scaler.fit_transform(x_train_scaled)\n",
    "    #x_validate_scaled = x_validate_scaled.copy()\n",
    "    #x_validate_scaled[['bedrooms','bathrooms','sq_feet','year_built','tax_amount','fips']] = scaler.fit_transform(x_validate_scaled)\n",
    "\n",
    "    lars.fit(x_train_scaled, y_train.tax_value)\n",
    "\n",
    "    y_train['tax_value_pred_lars'] = lars.predict(x_train_scaled)\n",
    "\n",
    "    # evaluate: rmse\n",
    "    rmse_train = mean_squared_error(y_train.tax_value, y_train.tax_value_pred_lars)**(1/2)\n",
    "\n",
    "    # predict validate\n",
    "    y_validate['tax_value_pred_lars'] = lars.predict(x_validate_scaled)\n",
    "\n",
    "    # evaluate: rmse\n",
    "    rmse_validate = mean_squared_error(y_validate.tax_value, y_validate.tax_value_pred_lars)**(1/2)\n",
    "\n",
    "    print(\"RMSE for Lasso + Lars\\nTraining/In-Sample: \", rmse_train, \n",
    "          \"\\nValidation/Out-of-Sample: \", rmse_validate)"
   ]
  },
  {
   "cell_type": "code",
   "execution_count": 30,
   "id": "65782b3d",
   "metadata": {},
   "outputs": [
    {
     "name": "stdout",
     "output_type": "stream",
     "text": [
      "RMSE for Lasso + Lars\n",
      "Training/In-Sample:  286205.6184335364 \n",
      "Validation/Out-of-Sample:  281570.55340928794\n"
     ]
    }
   ],
   "source": [
    "get_lars(x_train_scaled, y_train)"
   ]
  },
  {
   "cell_type": "markdown",
   "id": "9874f84e",
   "metadata": {},
   "source": [
    "# TweedieRegressor (GLM)"
   ]
  },
  {
   "cell_type": "code",
   "execution_count": 31,
   "id": "0f29869d",
   "metadata": {},
   "outputs": [],
   "source": [
    "def get_glm(x_train_scaled, y_train):\n",
    "    \n",
    "    # create the model object\n",
    "    glm = TweedieRegressor(power=1, alpha=0)\n",
    "\n",
    "    # fit the model to our training data. We must specify the column in y_train, \n",
    "    # since we have converted it to a dataframe from a series! \n",
    "    glm.fit(x_train_scaled, y_train.tax_value)\n",
    "\n",
    "    # predict train\n",
    "    y_train['tax_value_pred_glm'] = glm.predict(x_train_scaled)\n",
    "\n",
    "    # evaluate: rmse\n",
    "    rmse_train = mean_squared_error(y_train.tax_value, y_train.tax_value_pred_glm)**(1/2)\n",
    "\n",
    "    # predict validate\n",
    "    y_validate['tax_value_pred_glm'] = glm.predict(x_validate_scaled)\n",
    "\n",
    "    # evaluate: rmse\n",
    "    rmse_validate = mean_squared_error(y_validate.tax_value, y_validate.tax_value_pred_glm)**(1/2)\n",
    "\n",
    "    print(\"RMSE for GLM using Tweedie, power=1 & alpha=0\\nTraining/In-Sample: \", rmse_train, \n",
    "          \"\\nValidation/Out-of-Sample: \", rmse_validate)"
   ]
  },
  {
   "cell_type": "code",
   "execution_count": 32,
   "id": "a6181f8f",
   "metadata": {},
   "outputs": [
    {
     "name": "stdout",
     "output_type": "stream",
     "text": [
      "RMSE for GLM using Tweedie, power=1 & alpha=0\n",
      "Training/In-Sample:  296696.93800469773 \n",
      "Validation/Out-of-Sample:  288237.9091112238\n"
     ]
    }
   ],
   "source": [
    "get_glm(x_train_scaled, y_train)"
   ]
  },
  {
   "cell_type": "markdown",
   "id": "e93ca3b5",
   "metadata": {},
   "source": [
    "# Polynomial Regression"
   ]
  },
  {
   "cell_type": "code",
   "execution_count": 33,
   "id": "58e2fbc9",
   "metadata": {},
   "outputs": [],
   "source": [
    "def get_poly(x_train_scaled, y_train):\n",
    "    # make the polynomial features to get a new set of features\n",
    "    pf = PolynomialFeatures(degree=2)\n",
    "\n",
    "    # fit and transform X_train_scaled\n",
    "    x_train_scaled_degree2 = pf.fit_transform(x_train_scaled)\n",
    "\n",
    "    # transform X_validate_scaled & X_test_scaled\n",
    "    x_validate_scaled_degree2 = pf.transform(x_validate_scaled)\n",
    "    x_test_scaled_degree2 = pf.transform(x_test_scaled)\n",
    "    \n",
    "    # create the model object\n",
    "    lm2 = LinearRegression(normalize=True)\n",
    "\n",
    "    # fit the model to our training data. We must specify the column in y_train, \n",
    "    # since we have converted it to a dataframe from a series! \n",
    "    lm2.fit(x_train_scaled_degree2, y_train.tax_value)\n",
    "\n",
    "    # predict train\n",
    "    y_train['tax_value_pred_lm2'] = lm2.predict(x_train_scaled_degree2)\n",
    "\n",
    "    # evaluate: rmse\n",
    "    rmse_train = mean_squared_error(y_train.tax_value, y_train.tax_value_pred_lm2)**(1/2)\n",
    "\n",
    "    # predict validate\n",
    "    y_validate['tax_value_pred_lm2'] = lm2.predict(x_validate_scaled_degree2)\n",
    "\n",
    "    # evaluate: rmse\n",
    "    rmse_validate = mean_squared_error(y_validate.tax_value, y_validate.tax_value_pred_lm2)**(1/2)\n",
    "\n",
    "    print(\"RMSE for Polynomial Model, degrees=2\\nTraining/In-Sample: \", rmse_train, \n",
    "          \"\\nValidation/Out-of-Sample: \", rmse_validate)\n",
    "    "
   ]
  },
  {
   "cell_type": "code",
   "execution_count": 34,
   "id": "711df205",
   "metadata": {
    "scrolled": false
   },
   "outputs": [
    {
     "name": "stdout",
     "output_type": "stream",
     "text": [
      "RMSE for Polynomial Model, degrees=2\n",
      "Training/In-Sample:  285135.8897185141 \n",
      "Validation/Out-of-Sample:  280525.2753433108\n"
     ]
    }
   ],
   "source": [
    "get_poly(x_train_scaled, y_train)"
   ]
  },
  {
   "cell_type": "code",
   "execution_count": 35,
   "id": "98c6d061",
   "metadata": {
    "scrolled": false
   },
   "outputs": [
    {
     "data": {
      "text/html": [
       "<div>\n",
       "<style scoped>\n",
       "    .dataframe tbody tr th:only-of-type {\n",
       "        vertical-align: middle;\n",
       "    }\n",
       "\n",
       "    .dataframe tbody tr th {\n",
       "        vertical-align: top;\n",
       "    }\n",
       "\n",
       "    .dataframe thead th {\n",
       "        text-align: right;\n",
       "    }\n",
       "</style>\n",
       "<table border=\"1\" class=\"dataframe\">\n",
       "  <thead>\n",
       "    <tr style=\"text-align: right;\">\n",
       "      <th></th>\n",
       "      <th>tax_value</th>\n",
       "      <th>tax_value_pred_mean</th>\n",
       "      <th>tax_value_pred_median</th>\n",
       "      <th>tax_value_pred_lm</th>\n",
       "      <th>tax_value_pred_lars</th>\n",
       "      <th>tax_value_pred_glm</th>\n",
       "      <th>tax_value_pred_lm2</th>\n",
       "    </tr>\n",
       "  </thead>\n",
       "  <tbody>\n",
       "    <tr>\n",
       "      <th>8096</th>\n",
       "      <td>206483</td>\n",
       "      <td>445957.819914</td>\n",
       "      <td>363000.0</td>\n",
       "      <td>392758.090123</td>\n",
       "      <td>392753.032081</td>\n",
       "      <td>377474.583001</td>\n",
       "      <td>387092.079603</td>\n",
       "    </tr>\n",
       "    <tr>\n",
       "      <th>45007</th>\n",
       "      <td>110048</td>\n",
       "      <td>445957.819914</td>\n",
       "      <td>363000.0</td>\n",
       "      <td>382573.677449</td>\n",
       "      <td>382330.711419</td>\n",
       "      <td>347714.519021</td>\n",
       "      <td>390425.469488</td>\n",
       "    </tr>\n",
       "    <tr>\n",
       "      <th>43774</th>\n",
       "      <td>82423</td>\n",
       "      <td>445957.819914</td>\n",
       "      <td>363000.0</td>\n",
       "      <td>410366.938957</td>\n",
       "      <td>410338.708267</td>\n",
       "      <td>387057.648601</td>\n",
       "      <td>404948.566514</td>\n",
       "    </tr>\n",
       "  </tbody>\n",
       "</table>\n",
       "</div>"
      ],
      "text/plain": [
       "       tax_value  tax_value_pred_mean  tax_value_pred_median  \\\n",
       "8096      206483        445957.819914               363000.0   \n",
       "45007     110048        445957.819914               363000.0   \n",
       "43774      82423        445957.819914               363000.0   \n",
       "\n",
       "       tax_value_pred_lm  tax_value_pred_lars  tax_value_pred_glm  \\\n",
       "8096       392758.090123        392753.032081       377474.583001   \n",
       "45007      382573.677449        382330.711419       347714.519021   \n",
       "43774      410366.938957        410338.708267       387057.648601   \n",
       "\n",
       "       tax_value_pred_lm2  \n",
       "8096        387092.079603  \n",
       "45007       390425.469488  \n",
       "43774       404948.566514  "
      ]
     },
     "execution_count": 35,
     "metadata": {},
     "output_type": "execute_result"
    }
   ],
   "source": [
    "y_train.head(3)"
   ]
  },
  {
   "cell_type": "code",
   "execution_count": null,
   "id": "acb5ab14",
   "metadata": {},
   "outputs": [],
   "source": []
  },
  {
   "cell_type": "markdown",
   "id": "01a24807",
   "metadata": {},
   "source": [
    "# R^2 (check model predicted performance)"
   ]
  },
  {
   "cell_type": "code",
   "execution_count": 36,
   "id": "1304d37d",
   "metadata": {},
   "outputs": [],
   "source": [
    "from sklearn.metrics import r2_score\n",
    "def calc_performance(y, yhat, featureN = 2):\n",
    "        # A version of R Squared which may be more accurate than when done by hand\n",
    "        r2 = r2_score(y, yhat)\n",
    "        # Adjusted R Squared\n",
    "        adjR2= 1-(1-r2)*(len(y)-1)/(len(y)-featureN-1)\n",
    "        return r2, adjR2"
   ]
  },
  {
   "cell_type": "code",
   "execution_count": 37,
   "id": "61d5323b",
   "metadata": {},
   "outputs": [
    {
     "data": {
      "text/plain": [
       "(0.35621725972306284, 0.35617198508328807)"
      ]
     },
     "execution_count": 37,
     "metadata": {},
     "output_type": "execute_result"
    }
   ],
   "source": [
    "calc_performance(y_train.tax_value, y_train.tax_value_pred_lm2, featureN = 2)"
   ]
  },
  {
   "cell_type": "code",
   "execution_count": 38,
   "id": "4d8b7f1d",
   "metadata": {},
   "outputs": [
    {
     "data": {
      "text/html": [
       "<div>\n",
       "<style scoped>\n",
       "    .dataframe tbody tr th:only-of-type {\n",
       "        vertical-align: middle;\n",
       "    }\n",
       "\n",
       "    .dataframe tbody tr th {\n",
       "        vertical-align: top;\n",
       "    }\n",
       "\n",
       "    .dataframe thead th {\n",
       "        text-align: right;\n",
       "    }\n",
       "</style>\n",
       "<table border=\"1\" class=\"dataframe\">\n",
       "  <thead>\n",
       "    <tr style=\"text-align: right;\">\n",
       "      <th></th>\n",
       "      <th>tax_value</th>\n",
       "      <th>tax_value_pred_mean</th>\n",
       "      <th>tax_value_pred_median</th>\n",
       "      <th>tax_value_pred_lm</th>\n",
       "      <th>tax_value_pred_lars</th>\n",
       "      <th>tax_value_pred_glm</th>\n",
       "      <th>tax_value_pred_lm2</th>\n",
       "    </tr>\n",
       "  </thead>\n",
       "  <tbody>\n",
       "    <tr>\n",
       "      <th>8096</th>\n",
       "      <td>206483</td>\n",
       "      <td>445957.819914</td>\n",
       "      <td>363000.0</td>\n",
       "      <td>3.927581e+05</td>\n",
       "      <td>3.927530e+05</td>\n",
       "      <td>3.774746e+05</td>\n",
       "      <td>3.870921e+05</td>\n",
       "    </tr>\n",
       "    <tr>\n",
       "      <th>45007</th>\n",
       "      <td>110048</td>\n",
       "      <td>445957.819914</td>\n",
       "      <td>363000.0</td>\n",
       "      <td>3.825737e+05</td>\n",
       "      <td>3.823307e+05</td>\n",
       "      <td>3.477145e+05</td>\n",
       "      <td>3.904255e+05</td>\n",
       "    </tr>\n",
       "    <tr>\n",
       "      <th>43774</th>\n",
       "      <td>82423</td>\n",
       "      <td>445957.819914</td>\n",
       "      <td>363000.0</td>\n",
       "      <td>4.103669e+05</td>\n",
       "      <td>4.103387e+05</td>\n",
       "      <td>3.870576e+05</td>\n",
       "      <td>4.049486e+05</td>\n",
       "    </tr>\n",
       "    <tr>\n",
       "      <th>1082</th>\n",
       "      <td>373151</td>\n",
       "      <td>445957.819914</td>\n",
       "      <td>363000.0</td>\n",
       "      <td>2.477532e+05</td>\n",
       "      <td>2.480505e+05</td>\n",
       "      <td>2.970859e+05</td>\n",
       "      <td>2.565237e+05</td>\n",
       "    </tr>\n",
       "    <tr>\n",
       "      <th>13597</th>\n",
       "      <td>1430885</td>\n",
       "      <td>445957.819914</td>\n",
       "      <td>363000.0</td>\n",
       "      <td>1.416496e+06</td>\n",
       "      <td>1.414726e+06</td>\n",
       "      <td>2.115100e+06</td>\n",
       "      <td>1.651991e+06</td>\n",
       "    </tr>\n",
       "  </tbody>\n",
       "</table>\n",
       "</div>"
      ],
      "text/plain": [
       "       tax_value  tax_value_pred_mean  tax_value_pred_median  \\\n",
       "8096      206483        445957.819914               363000.0   \n",
       "45007     110048        445957.819914               363000.0   \n",
       "43774      82423        445957.819914               363000.0   \n",
       "1082      373151        445957.819914               363000.0   \n",
       "13597    1430885        445957.819914               363000.0   \n",
       "\n",
       "       tax_value_pred_lm  tax_value_pred_lars  tax_value_pred_glm  \\\n",
       "8096        3.927581e+05         3.927530e+05        3.774746e+05   \n",
       "45007       3.825737e+05         3.823307e+05        3.477145e+05   \n",
       "43774       4.103669e+05         4.103387e+05        3.870576e+05   \n",
       "1082        2.477532e+05         2.480505e+05        2.970859e+05   \n",
       "13597       1.416496e+06         1.414726e+06        2.115100e+06   \n",
       "\n",
       "       tax_value_pred_lm2  \n",
       "8096         3.870921e+05  \n",
       "45007        3.904255e+05  \n",
       "43774        4.049486e+05  \n",
       "1082         2.565237e+05  \n",
       "13597        1.651991e+06  "
      ]
     },
     "execution_count": 38,
     "metadata": {},
     "output_type": "execute_result"
    }
   ],
   "source": [
    "y_train.head()"
   ]
  },
  {
   "cell_type": "code",
   "execution_count": 39,
   "id": "47576875",
   "metadata": {},
   "outputs": [
    {
     "ename": "AttributeError",
     "evalue": "'DataFrame' object has no attribute 'tax_value_pred_lm2'",
     "output_type": "error",
     "traceback": [
      "\u001b[0;31m---------------------------------------------------------------------------\u001b[0m",
      "\u001b[0;31mAttributeError\u001b[0m                            Traceback (most recent call last)",
      "Input \u001b[0;32mIn [39]\u001b[0m, in \u001b[0;36m<cell line: 1>\u001b[0;34m()\u001b[0m\n\u001b[0;32m----> 1\u001b[0m calc_performance(y_test\u001b[38;5;241m.\u001b[39mtax_value, \u001b[43my_test\u001b[49m\u001b[38;5;241;43m.\u001b[39;49m\u001b[43mtax_value_pred_lm2\u001b[49m)\n",
      "File \u001b[0;32m/opt/homebrew/anaconda3/lib/python3.9/site-packages/pandas/core/generic.py:5575\u001b[0m, in \u001b[0;36mNDFrame.__getattr__\u001b[0;34m(self, name)\u001b[0m\n\u001b[1;32m   5568\u001b[0m \u001b[38;5;28;01mif\u001b[39;00m (\n\u001b[1;32m   5569\u001b[0m     name \u001b[38;5;129;01mnot\u001b[39;00m \u001b[38;5;129;01min\u001b[39;00m \u001b[38;5;28mself\u001b[39m\u001b[38;5;241m.\u001b[39m_internal_names_set\n\u001b[1;32m   5570\u001b[0m     \u001b[38;5;129;01mand\u001b[39;00m name \u001b[38;5;129;01mnot\u001b[39;00m \u001b[38;5;129;01min\u001b[39;00m \u001b[38;5;28mself\u001b[39m\u001b[38;5;241m.\u001b[39m_metadata\n\u001b[1;32m   5571\u001b[0m     \u001b[38;5;129;01mand\u001b[39;00m name \u001b[38;5;129;01mnot\u001b[39;00m \u001b[38;5;129;01min\u001b[39;00m \u001b[38;5;28mself\u001b[39m\u001b[38;5;241m.\u001b[39m_accessors\n\u001b[1;32m   5572\u001b[0m     \u001b[38;5;129;01mand\u001b[39;00m \u001b[38;5;28mself\u001b[39m\u001b[38;5;241m.\u001b[39m_info_axis\u001b[38;5;241m.\u001b[39m_can_hold_identifiers_and_holds_name(name)\n\u001b[1;32m   5573\u001b[0m ):\n\u001b[1;32m   5574\u001b[0m     \u001b[38;5;28;01mreturn\u001b[39;00m \u001b[38;5;28mself\u001b[39m[name]\n\u001b[0;32m-> 5575\u001b[0m \u001b[38;5;28;01mreturn\u001b[39;00m \u001b[38;5;28;43mobject\u001b[39;49m\u001b[38;5;241;43m.\u001b[39;49m\u001b[38;5;21;43m__getattribute__\u001b[39;49m\u001b[43m(\u001b[49m\u001b[38;5;28;43mself\u001b[39;49m\u001b[43m,\u001b[49m\u001b[43m \u001b[49m\u001b[43mname\u001b[49m\u001b[43m)\u001b[49m\n",
      "\u001b[0;31mAttributeError\u001b[0m: 'DataFrame' object has no attribute 'tax_value_pred_lm2'"
     ]
    }
   ],
   "source": [
    "calc_performance(y_test.tax_value, y_test.tax_value_pred_lm2)"
   ]
  },
  {
   "cell_type": "markdown",
   "id": "18b9bb98",
   "metadata": {},
   "source": [
    "# Best Model On Test"
   ]
  },
  {
   "cell_type": "markdown",
   "id": "cab57326",
   "metadata": {},
   "source": [
    "> Best model is Polynomial Model, it moves to test"
   ]
  },
  {
   "cell_type": "code",
   "execution_count": null,
   "id": "8c695e1e",
   "metadata": {},
   "outputs": [],
   "source": [
    "def get_poly_test(x_train_scaled, y_test):\n",
    "    # make the polynomial features to get a new set of features\n",
    "    pf = PolynomialFeatures(degree=2)\n",
    "\n",
    "    # fit and transform X_train_scaled\n",
    "    x_train_scaled_degree2 = pf.fit_transform(x_train_scaled)\n",
    "\n",
    "    # transform X_validate_scaled & X_test_scaled\n",
    "    x_validate_scaled_degree2 = pf.transform(x_validate_scaled)\n",
    "    x_test_scaled_degree2 = pf.transform(x_test_scaled)\n",
    "    \n",
    "    # create the model object\n",
    "    lm2 = LinearRegression(normalize=True)\n",
    "\n",
    "    # fit the model to our training data. We must specify the column in y_train, \n",
    "    # since we have converted it to a dataframe from a series! \n",
    "    lm2.fit(x_train_scaled_degree2, y_train.tax_value)\n",
    "\n",
    "    # predict train\n",
    "    y_train['tax_value_pred_lm2'] = lm2.predict(x_train_scaled_degree2)\n",
    "\n",
    "    # evaluate: rmse\n",
    "    rmse_train = mean_squared_error(y_train.tax_value, y_train.tax_value_pred_lm2)**(1/2)\n",
    "\n",
    "    # predict test\n",
    "    y_test['tax_value_pred_lm2'] = lm2.predict(x_test_scaled_degree2)\n",
    "\n",
    "    # evaluate: rmse\n",
    "    rmse_test = mean_squared_error(y_test.tax_value, y_test.tax_value_pred_lm2)**(1/2)\n",
    "\n",
    "    print(\"RMSE for Polynomial Model, degrees=2\\nTraining/In-Sample: \", rmse_train, \n",
    "          \"\\nTest/Out-of-Sample: \", rmse_test)\n",
    "    "
   ]
  },
  {
   "cell_type": "code",
   "execution_count": null,
   "id": "69e86a4d",
   "metadata": {},
   "outputs": [],
   "source": [
    "get_poly_test(x_train_scaled, y_test)"
   ]
  },
  {
   "cell_type": "code",
   "execution_count": null,
   "id": "936a3db3",
   "metadata": {},
   "outputs": [],
   "source": [
    "calc_performance(y_test.tax_value, y_test.tax_value_pred_lm2, featureN = 2)"
   ]
  },
  {
   "cell_type": "code",
   "execution_count": null,
   "id": "a10fe3f7",
   "metadata": {},
   "outputs": [],
   "source": []
  }
 ],
 "metadata": {
  "kernelspec": {
   "display_name": "Python 3 (ipykernel)",
   "language": "python",
   "name": "python3"
  },
  "language_info": {
   "codemirror_mode": {
    "name": "ipython",
    "version": 3
   },
   "file_extension": ".py",
   "mimetype": "text/x-python",
   "name": "python",
   "nbconvert_exporter": "python",
   "pygments_lexer": "ipython3",
   "version": "3.9.12"
  }
 },
 "nbformat": 4,
 "nbformat_minor": 5
}
