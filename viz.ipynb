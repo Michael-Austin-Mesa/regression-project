{
 "cells": [
  {
   "cell_type": "code",
   "execution_count": 2,
   "id": "a86e8e4f",
   "metadata": {},
   "outputs": [],
   "source": [
    "import numpy as np\n",
    "import pandas as pd\n",
    "import seaborn as sns\n",
    "import math\n",
    "import matplotlib.pyplot as plt\n",
    "\n",
    "import wrangle as w\n",
    "import explore as e\n",
    "import env\n",
    "from scipy import stats\n",
    "\n",
    "from sklearn.model_selection import train_test_split\n",
    "from sklearn.feature_selection import SelectKBest, RFE, f_regression, SequentialFeatureSelector\n",
    "from sklearn.linear_model import LinearRegression, LassoLars, TweedieRegressor\n",
    "from sklearn.metrics import mean_squared_error\n",
    "from sklearn.preprocessing import MinMaxScaler, StandardScaler, RobustScaler, QuantileTransformer, PolynomialFeatures\n",
    "\n",
    "import warnings\n",
    "warnings.filterwarnings(\"ignore\")"
   ]
  },
  {
   "cell_type": "code",
   "execution_count": 3,
   "id": "62fccd71",
   "metadata": {},
   "outputs": [],
   "source": [
    "df = w.wrangle_zillow()"
   ]
  },
  {
   "cell_type": "code",
   "execution_count": 4,
   "id": "b96bf60b",
   "metadata": {},
   "outputs": [],
   "source": [
    "train, validate, test = w.split_data(df)"
   ]
  },
  {
   "cell_type": "code",
   "execution_count": 5,
   "id": "6e45bc10",
   "metadata": {},
   "outputs": [],
   "source": [
    "x_train = train[['bedrooms', 'bathrooms', 'sq_feet']]\n",
    "y_train = train[['tax_value']]\n",
    "\n",
    "x_validate = validate[['bedrooms', 'bathrooms', 'sq_feet']]\n",
    "y_validate = validate[['tax_value']]\n",
    "\n",
    "x_test = test[['bedrooms', 'bathrooms', 'sq_feet']]\n",
    "y_test = test[['tax_value']]"
   ]
  },
  {
   "cell_type": "code",
   "execution_count": 6,
   "id": "1646ba70",
   "metadata": {},
   "outputs": [],
   "source": [
    "def get_strip(string):\n",
    "    train_viz = train.sample(frac=0.04, replace=True, random_state=777)\n",
    "    sns.stripplot(x=string, y='tax_value', data=train_viz, size=3)\n",
    "    plt.show()"
   ]
  },
  {
   "cell_type": "code",
   "execution_count": 14,
   "id": "3d2b3e3e",
   "metadata": {},
   "outputs": [],
   "source": [
    "def get_scatter_sq_feet():\n",
    "    train_viz = train.sample(frac=0.04, replace=True, random_state=777)\n",
    "    train_viz.plot.scatter('sq_feet','tax_value')\n",
    "    plt.title('Square Feet vs Tax Value')"
   ]
  },
  {
   "cell_type": "code",
   "execution_count": 15,
   "id": "576d0c35",
   "metadata": {},
   "outputs": [],
   "source": [
    "#def get_fips():\n",
    "#    train_viz = train.sample(frac=0.04, replace=True, random_state=777)\n",
    "#    #fipsname = map(train_viz['fips'],['LA', 'Orange','Something else'])\n",
    "#    sns.stripplot(x=train_viz['fips'], y='tax_value', data=train_viz, size=3)\n",
    "#    plt.show()\n",
    "#    print('6037 = Los Angeles County\\n6059 = Orange County\\n6111 = Ventura County')"
   ]
  },
  {
   "cell_type": "code",
   "execution_count": 19,
   "id": "92ea646d",
   "metadata": {},
   "outputs": [],
   "source": [
    "def get_fips():\n",
    "    plt.bar(['Los Angeles','Orange','Ventura'], pd.value_counts(train['fips']), color=['#FF6663','orange','#6EB5FF'])"
   ]
  },
  {
   "cell_type": "code",
   "execution_count": 9,
   "id": "6f5b04ba",
   "metadata": {},
   "outputs": [],
   "source": [
    "def get_corr(string):\n",
    "    corr, p = stats.pearsonr(x_train[string], y_train)\n",
    "    print(f'corr = {float(corr):.4f}')\n",
    "    print(f'p    = {p:.4f}')"
   ]
  }
 ],
 "metadata": {
  "kernelspec": {
   "display_name": "Python 3 (ipykernel)",
   "language": "python",
   "name": "python3"
  },
  "language_info": {
   "codemirror_mode": {
    "name": "ipython",
    "version": 3
   },
   "file_extension": ".py",
   "mimetype": "text/x-python",
   "name": "python",
   "nbconvert_exporter": "python",
   "pygments_lexer": "ipython3",
   "version": "3.9.12"
  }
 },
 "nbformat": 4,
 "nbformat_minor": 5
}
