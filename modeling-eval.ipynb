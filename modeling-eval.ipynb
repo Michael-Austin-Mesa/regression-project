{
 "cells": [
  {
   "cell_type": "code",
   "execution_count": 1,
   "id": "b1290953",
   "metadata": {},
   "outputs": [],
   "source": [
    "import numpy as np\n",
    "import pandas as pd\n",
    "import seaborn as sns\n",
    "import math\n",
    "import matplotlib.pyplot as plt\n",
    "\n",
    "import wrangle as w\n",
    "import explore as e\n",
    "import env\n",
    "\n",
    "from sklearn.model_selection import train_test_split\n",
    "from sklearn.feature_selection import SelectKBest, RFE, f_regression, SequentialFeatureSelector\n",
    "from sklearn.linear_model import LinearRegression, LassoLars, TweedieRegressor\n",
    "from sklearn.metrics import mean_squared_error\n",
    "from sklearn.preprocessing import MinMaxScaler, StandardScaler, RobustScaler, QuantileTransformer, PolynomialFeatures\n",
    "\n",
    "import warnings\n",
    "warnings.filterwarnings(\"ignore\")"
   ]
  },
  {
   "cell_type": "code",
   "execution_count": 2,
   "id": "757e2d27",
   "metadata": {},
   "outputs": [],
   "source": [
    "df = w.wrangle_zillow()"
   ]
  },
  {
   "cell_type": "code",
   "execution_count": 3,
   "id": "8ac9b407",
   "metadata": {},
   "outputs": [
    {
     "data": {
      "text/html": [
       "<div>\n",
       "<style scoped>\n",
       "    .dataframe tbody tr th:only-of-type {\n",
       "        vertical-align: middle;\n",
       "    }\n",
       "\n",
       "    .dataframe tbody tr th {\n",
       "        vertical-align: top;\n",
       "    }\n",
       "\n",
       "    .dataframe thead th {\n",
       "        text-align: right;\n",
       "    }\n",
       "</style>\n",
       "<table border=\"1\" class=\"dataframe\">\n",
       "  <thead>\n",
       "    <tr style=\"text-align: right;\">\n",
       "      <th></th>\n",
       "      <th>bedrooms</th>\n",
       "      <th>bathrooms</th>\n",
       "      <th>sq_feet</th>\n",
       "      <th>tax_value</th>\n",
       "      <th>year_built</th>\n",
       "      <th>tax_amount</th>\n",
       "      <th>fips</th>\n",
       "    </tr>\n",
       "  </thead>\n",
       "  <tbody>\n",
       "    <tr>\n",
       "      <th>0</th>\n",
       "      <td>4</td>\n",
       "      <td>3.5</td>\n",
       "      <td>3100</td>\n",
       "      <td>1023282</td>\n",
       "      <td>1998</td>\n",
       "      <td>11013.72</td>\n",
       "      <td>6059</td>\n",
       "    </tr>\n",
       "    <tr>\n",
       "      <th>1</th>\n",
       "      <td>2</td>\n",
       "      <td>1.0</td>\n",
       "      <td>1465</td>\n",
       "      <td>464000</td>\n",
       "      <td>1967</td>\n",
       "      <td>5672.48</td>\n",
       "      <td>6111</td>\n",
       "    </tr>\n",
       "    <tr>\n",
       "      <th>2</th>\n",
       "      <td>3</td>\n",
       "      <td>2.0</td>\n",
       "      <td>1243</td>\n",
       "      <td>564778</td>\n",
       "      <td>1962</td>\n",
       "      <td>6488.30</td>\n",
       "      <td>6059</td>\n",
       "    </tr>\n",
       "    <tr>\n",
       "      <th>3</th>\n",
       "      <td>4</td>\n",
       "      <td>3.0</td>\n",
       "      <td>2376</td>\n",
       "      <td>145143</td>\n",
       "      <td>1970</td>\n",
       "      <td>1777.51</td>\n",
       "      <td>6037</td>\n",
       "    </tr>\n",
       "    <tr>\n",
       "      <th>4</th>\n",
       "      <td>4</td>\n",
       "      <td>3.0</td>\n",
       "      <td>2962</td>\n",
       "      <td>773303</td>\n",
       "      <td>1950</td>\n",
       "      <td>9516.26</td>\n",
       "      <td>6037</td>\n",
       "    </tr>\n",
       "  </tbody>\n",
       "</table>\n",
       "</div>"
      ],
      "text/plain": [
       "   bedrooms  bathrooms  sq_feet  tax_value  year_built  tax_amount  fips\n",
       "0         4        3.5     3100    1023282        1998    11013.72  6059\n",
       "1         2        1.0     1465     464000        1967     5672.48  6111\n",
       "2         3        2.0     1243     564778        1962     6488.30  6059\n",
       "3         4        3.0     2376     145143        1970     1777.51  6037\n",
       "4         4        3.0     2962     773303        1950     9516.26  6037"
      ]
     },
     "execution_count": 3,
     "metadata": {},
     "output_type": "execute_result"
    }
   ],
   "source": [
    "df.head()"
   ]
  },
  {
   "cell_type": "code",
   "execution_count": 4,
   "id": "462ec4b5",
   "metadata": {
    "scrolled": true
   },
   "outputs": [
    {
     "name": "stdout",
     "output_type": "stream",
     "text": [
      "<class 'pandas.core.frame.DataFrame'>\n",
      "RangeIndex: 50790 entries, 0 to 50789\n",
      "Data columns (total 7 columns):\n",
      " #   Column      Non-Null Count  Dtype  \n",
      "---  ------      --------------  -----  \n",
      " 0   bedrooms    50790 non-null  int64  \n",
      " 1   bathrooms   50790 non-null  float64\n",
      " 2   sq_feet     50790 non-null  int64  \n",
      " 3   tax_value   50790 non-null  int64  \n",
      " 4   year_built  50790 non-null  int64  \n",
      " 5   tax_amount  50790 non-null  float64\n",
      " 6   fips        50790 non-null  int64  \n",
      "dtypes: float64(2), int64(5)\n",
      "memory usage: 2.7 MB\n"
     ]
    }
   ],
   "source": [
    "df.info()"
   ]
  },
  {
   "cell_type": "code",
   "execution_count": 5,
   "id": "79d0e5f2",
   "metadata": {},
   "outputs": [],
   "source": [
    "train, validate, test = w.split_data(df)"
   ]
  },
  {
   "cell_type": "code",
   "execution_count": 6,
   "id": "b7a076b2",
   "metadata": {},
   "outputs": [],
   "source": [
    "train_scaled, validate_scaled, test_scaled = w.scale_data(train, validate, test)"
   ]
  },
  {
   "cell_type": "code",
   "execution_count": 7,
   "id": "e5d49a90",
   "metadata": {
    "scrolled": true
   },
   "outputs": [
    {
     "data": {
      "text/html": [
       "<div>\n",
       "<style scoped>\n",
       "    .dataframe tbody tr th:only-of-type {\n",
       "        vertical-align: middle;\n",
       "    }\n",
       "\n",
       "    .dataframe tbody tr th {\n",
       "        vertical-align: top;\n",
       "    }\n",
       "\n",
       "    .dataframe thead th {\n",
       "        text-align: right;\n",
       "    }\n",
       "</style>\n",
       "<table border=\"1\" class=\"dataframe\">\n",
       "  <thead>\n",
       "    <tr style=\"text-align: right;\">\n",
       "      <th></th>\n",
       "      <th>bedrooms</th>\n",
       "      <th>bathrooms</th>\n",
       "      <th>sq_feet</th>\n",
       "      <th>tax_value</th>\n",
       "      <th>year_built</th>\n",
       "      <th>tax_amount</th>\n",
       "      <th>fips</th>\n",
       "    </tr>\n",
       "  </thead>\n",
       "  <tbody>\n",
       "    <tr>\n",
       "      <th>8096</th>\n",
       "      <td>0.500000</td>\n",
       "      <td>0.333333</td>\n",
       "      <td>0.162985</td>\n",
       "      <td>206483</td>\n",
       "      <td>1983</td>\n",
       "      <td>0.036235</td>\n",
       "      <td>6111</td>\n",
       "    </tr>\n",
       "    <tr>\n",
       "      <th>45007</th>\n",
       "      <td>0.333333</td>\n",
       "      <td>0.166667</td>\n",
       "      <td>0.152955</td>\n",
       "      <td>110048</td>\n",
       "      <td>1970</td>\n",
       "      <td>0.023914</td>\n",
       "      <td>6037</td>\n",
       "    </tr>\n",
       "    <tr>\n",
       "      <th>43774</th>\n",
       "      <td>0.500000</td>\n",
       "      <td>0.333333</td>\n",
       "      <td>0.171701</td>\n",
       "      <td>82423</td>\n",
       "      <td>1956</td>\n",
       "      <td>0.018175</td>\n",
       "      <td>6059</td>\n",
       "    </tr>\n",
       "  </tbody>\n",
       "</table>\n",
       "</div>"
      ],
      "text/plain": [
       "       bedrooms  bathrooms   sq_feet  tax_value  year_built  tax_amount  fips\n",
       "8096   0.500000   0.333333  0.162985     206483        1983    0.036235  6111\n",
       "45007  0.333333   0.166667  0.152955     110048        1970    0.023914  6037\n",
       "43774  0.500000   0.333333  0.171701      82423        1956    0.018175  6059"
      ]
     },
     "execution_count": 7,
     "metadata": {},
     "output_type": "execute_result"
    }
   ],
   "source": [
    "train_scaled.head(3)"
   ]
  },
  {
   "cell_type": "code",
   "execution_count": 8,
   "id": "516848d3",
   "metadata": {},
   "outputs": [
    {
     "data": {
      "text/plain": [
       "bedrooms      float64\n",
       "bathrooms     float64\n",
       "sq_feet       float64\n",
       "tax_value       int64\n",
       "year_built      int64\n",
       "tax_amount    float64\n",
       "fips            int64\n",
       "dtype: object"
      ]
     },
     "execution_count": 8,
     "metadata": {},
     "output_type": "execute_result"
    }
   ],
   "source": [
    "train_scaled.dtypes"
   ]
  },
  {
   "cell_type": "code",
   "execution_count": 9,
   "id": "ae9ae489",
   "metadata": {},
   "outputs": [],
   "source": [
    "#x_cols = train_scaled[['bedrooms','bathrooms','sq_feet']]"
   ]
  },
  {
   "cell_type": "code",
   "execution_count": 10,
   "id": "e303e010",
   "metadata": {},
   "outputs": [],
   "source": [
    "#y_cols = train_scaled.tax_value"
   ]
  },
  {
   "cell_type": "code",
   "execution_count": 11,
   "id": "5194c6db",
   "metadata": {},
   "outputs": [],
   "source": [
    "#x_cols.dtypes"
   ]
  },
  {
   "cell_type": "code",
   "execution_count": 12,
   "id": "d1ecce12",
   "metadata": {},
   "outputs": [],
   "source": [
    "#y_cols.dtypes"
   ]
  },
  {
   "cell_type": "code",
   "execution_count": 13,
   "id": "9169230b",
   "metadata": {},
   "outputs": [],
   "source": [
    "#x_cols_list = list(x_cols)"
   ]
  },
  {
   "cell_type": "code",
   "execution_count": 14,
   "id": "27747b4f",
   "metadata": {},
   "outputs": [],
   "source": [
    "#x_cols[x_cols_list[0]]"
   ]
  },
  {
   "cell_type": "code",
   "execution_count": 15,
   "id": "51ceb257",
   "metadata": {},
   "outputs": [],
   "source": [
    "#for i in x_cols[1:]:\n",
    "#    print(i)\n",
    " #   plt.figure()\n",
    "  #  plt.plot(y_cols,x_cols[i])\n",
    "  #  plt.show()"
   ]
  },
  {
   "cell_type": "code",
   "execution_count": 16,
   "id": "463903bf",
   "metadata": {
    "scrolled": true
   },
   "outputs": [],
   "source": [
    "#e.plot_categorical_and_continuous_vars(train_scaled, x_cols,y_cols)"
   ]
  },
  {
   "cell_type": "code",
   "execution_count": 17,
   "id": "16351f36",
   "metadata": {
    "scrolled": false
   },
   "outputs": [],
   "source": [
    "#e.plot_variable_pairs(x_cols, y_cols)"
   ]
  },
  {
   "cell_type": "code",
   "execution_count": 18,
   "id": "11434421",
   "metadata": {},
   "outputs": [],
   "source": [
    "#x_cols['bedrooms']"
   ]
  },
  {
   "cell_type": "code",
   "execution_count": 19,
   "id": "bcfab298",
   "metadata": {},
   "outputs": [],
   "source": [
    "x_train_scaled = train_scaled[['bedrooms', 'bathrooms', 'sq_feet']]\n",
    "y_train = train[['tax_value']]\n",
    "\n",
    "x_validate_scaled = validate_scaled[['bedrooms', 'bathrooms', 'sq_feet']]\n",
    "y_validate = validate[['tax_value']]\n",
    "\n",
    "x_test_scaled = test_scaled[['bedrooms', 'bathrooms', 'sq_feet']]\n",
    "y_test = test[['tax_value']]"
   ]
  },
  {
   "cell_type": "markdown",
   "id": "b1b07065",
   "metadata": {},
   "source": [
    "# Modeling AND Evaluation"
   ]
  },
  {
   "cell_type": "markdown",
   "id": "b3a5f844",
   "metadata": {},
   "source": [
    "# Baseline"
   ]
  },
  {
   "cell_type": "code",
   "execution_count": 20,
   "id": "a4cd0375",
   "metadata": {},
   "outputs": [],
   "source": [
    "def get_baseline(x_train_scaled, y_train):\n",
    "    y_train['tax_value_pred_mean']= y_train['tax_value'].mean()\n",
    "    y_validate['tax_value_pred_mean']= y_validate['tax_value'].mean()\n",
    "\n",
    "    y_train['tax_value_pred_median'] = y_train['tax_value'].median()\n",
    "    y_validate['tax_value_pred_median'] = y_validate['tax_value'].median()\n",
    "\n",
    "    rmse_train = mean_squared_error(y_train.tax_value, y_train.tax_value_pred_mean)**(1/2)\n",
    "    rmse_validate = mean_squared_error(y_validate.tax_value, y_validate.tax_value_pred_mean)**(1/2)\n",
    "\n",
    "    print(\"RMSE using Mean\\nTrain/In-Sample: \", round(rmse_train, 2), \n",
    "          \"\\nValidate/Out-of-Sample: \", round(rmse_validate, 2))\n",
    "    \n",
    "    rmse_train = mean_squared_error(y_train.tax_value, y_train.tax_value_pred_median)**(1/2)\n",
    "    rmse_validate = mean_squared_error(y_validate.tax_value, y_validate.tax_value_pred_median)**(1/2)\n",
    "\n",
    "    print(\"RMSE using Median\\nTrain/In-Sample: \", round(rmse_train, 2), \n",
    "          \"\\nValidate/Out-of-Sample: \", round(rmse_validate, 2))"
   ]
  },
  {
   "cell_type": "code",
   "execution_count": 21,
   "id": "b4e9470f",
   "metadata": {},
   "outputs": [
    {
     "name": "stdout",
     "output_type": "stream",
     "text": [
      "RMSE using Mean\n",
      "Train/In-Sample:  355371.19 \n",
      "Validate/Out-of-Sample:  347152.8\n",
      "RMSE using Median\n",
      "Train/In-Sample:  364925.59 \n",
      "Validate/Out-of-Sample:  355040.41\n"
     ]
    }
   ],
   "source": [
    "get_baseline(x_train_scaled, y_train)"
   ]
  },
  {
   "cell_type": "markdown",
   "id": "1b3f346a",
   "metadata": {},
   "source": [
    "# LinearRegression (OLS)"
   ]
  },
  {
   "cell_type": "code",
   "execution_count": 22,
   "id": "108d82b0",
   "metadata": {},
   "outputs": [],
   "source": [
    "def get_ols(x_train_scaled, y_train):\n",
    "    # create the model object\n",
    "    lm = LinearRegression(normalize=True)\n",
    "\n",
    "    # fit the model to our training data. We must specify the column in y_train, \n",
    "    # since we have converted it to a dataframe from a series! \n",
    "    lm.fit(x_train_scaled, y_train.tax_value)\n",
    "\n",
    "    # predict train\n",
    "    y_train['tax_value_pred_lm'] = lm.predict(x_train_scaled)\n",
    "\n",
    "    # evaluate: rmse\n",
    "    rmse_train = mean_squared_error(y_train.tax_value, y_train.tax_value_pred_lm)**(1/2)\n",
    "\n",
    "    # predict validate\n",
    "    y_validate['tax_value_pred_lm'] = lm.predict(x_validate_scaled)\n",
    "\n",
    "    # evaluate: rmse\n",
    "    rmse_validate = mean_squared_error(y_validate.tax_value, y_validate.tax_value_pred_lm)**(1/2)\n",
    "\n",
    "    print(\"RMSE for OLS using LinearRegression\\nTraining/In-Sample: \", rmse_train, \n",
    "          \"\\nValidation/Out-of-Sample: \", rmse_validate)"
   ]
  },
  {
   "cell_type": "code",
   "execution_count": 23,
   "id": "dedb397e",
   "metadata": {},
   "outputs": [
    {
     "name": "stdout",
     "output_type": "stream",
     "text": [
      "RMSE for OLS using LinearRegression\n",
      "Training/In-Sample:  286205.31265758 \n",
      "Validation/Out-of-Sample:  281570.92470836977\n"
     ]
    }
   ],
   "source": [
    "get_ols(x_train_scaled, y_train)"
   ]
  },
  {
   "cell_type": "markdown",
   "id": "603a989b",
   "metadata": {},
   "source": [
    "# Lars"
   ]
  },
  {
   "cell_type": "code",
   "execution_count": 24,
   "id": "d6712106",
   "metadata": {},
   "outputs": [],
   "source": [
    "def get_lars(x_train_scaled, y_train):\n",
    "    lars = LassoLars(alpha=1.0)\n",
    "    #scaler = MinMaxScaler()\n",
    "    #x_train_scaled = x_train_scaled.copy()\n",
    "    #x_train_scaled[['bedrooms','bathrooms','sq_feet','year_built','tax_amount','fips']] = scaler.fit_transform(x_train_scaled)\n",
    "    #x_validate_scaled = x_validate_scaled.copy()\n",
    "    #x_validate_scaled[['bedrooms','bathrooms','sq_feet','year_built','tax_amount','fips']] = scaler.fit_transform(x_validate_scaled)\n",
    "\n",
    "    lars.fit(x_train_scaled, y_train.tax_value)\n",
    "\n",
    "    y_train['tax_value_pred_lars'] = lars.predict(x_train_scaled)\n",
    "\n",
    "    # evaluate: rmse\n",
    "    rmse_train = mean_squared_error(y_train.tax_value, y_train.tax_value_pred_lars)**(1/2)\n",
    "\n",
    "    # predict validate\n",
    "    y_validate['tax_value_pred_lars'] = lars.predict(x_validate_scaled)\n",
    "\n",
    "    # evaluate: rmse\n",
    "    rmse_validate = mean_squared_error(y_validate.tax_value, y_validate.tax_value_pred_lars)**(1/2)\n",
    "\n",
    "    print(\"RMSE for Lasso + Lars\\nTraining/In-Sample: \", rmse_train, \n",
    "          \"\\nValidation/Out-of-Sample: \", rmse_validate)"
   ]
  },
  {
   "cell_type": "code",
   "execution_count": 25,
   "id": "647182bc",
   "metadata": {},
   "outputs": [
    {
     "name": "stdout",
     "output_type": "stream",
     "text": [
      "RMSE for Lasso + Lars\n",
      "Training/In-Sample:  286205.6184335364 \n",
      "Validation/Out-of-Sample:  281570.55340928794\n"
     ]
    }
   ],
   "source": [
    "get_lars(x_train_scaled, y_train)"
   ]
  },
  {
   "cell_type": "markdown",
   "id": "20dc7093",
   "metadata": {},
   "source": [
    "# TweedieRegressor (GLM)"
   ]
  },
  {
   "cell_type": "code",
   "execution_count": 26,
   "id": "b453430f",
   "metadata": {},
   "outputs": [],
   "source": [
    "def get_glm(x_train_scaled, y_train):\n",
    "    \n",
    "    # create the model object\n",
    "    glm = TweedieRegressor(power=1, alpha=0)\n",
    "\n",
    "    # fit the model to our training data. We must specify the column in y_train, \n",
    "    # since we have converted it to a dataframe from a series! \n",
    "    glm.fit(x_train_scaled, y_train.tax_value)\n",
    "\n",
    "    # predict train\n",
    "    y_train['tax_value_pred_glm'] = glm.predict(x_train_scaled)\n",
    "\n",
    "    # evaluate: rmse\n",
    "    rmse_train = mean_squared_error(y_train.tax_value, y_train.tax_value_pred_glm)**(1/2)\n",
    "\n",
    "    # predict validate\n",
    "    y_validate['tax_value_pred_glm'] = glm.predict(x_validate_scaled)\n",
    "\n",
    "    # evaluate: rmse\n",
    "    rmse_validate = mean_squared_error(y_validate.tax_value, y_validate.tax_value_pred_glm)**(1/2)\n",
    "\n",
    "    print(\"RMSE for GLM using Tweedie, power=1 & alpha=0\\nTraining/In-Sample: \", rmse_train, \n",
    "          \"\\nValidation/Out-of-Sample: \", rmse_validate)"
   ]
  },
  {
   "cell_type": "code",
   "execution_count": 27,
   "id": "83a0c33d",
   "metadata": {},
   "outputs": [
    {
     "name": "stdout",
     "output_type": "stream",
     "text": [
      "RMSE for GLM using Tweedie, power=1 & alpha=0\n",
      "Training/In-Sample:  296696.93800469773 \n",
      "Validation/Out-of-Sample:  288237.9091112238\n"
     ]
    }
   ],
   "source": [
    "get_glm(x_train_scaled, y_train)"
   ]
  },
  {
   "cell_type": "markdown",
   "id": "d16aa804",
   "metadata": {},
   "source": [
    "# Polynomial Regression"
   ]
  },
  {
   "cell_type": "code",
   "execution_count": 28,
   "id": "e82d69b7",
   "metadata": {},
   "outputs": [],
   "source": [
    "def get_poly(x_train_scaled, y_train):\n",
    "    # make the polynomial features to get a new set of features\n",
    "    pf = PolynomialFeatures(degree=2)\n",
    "\n",
    "    # fit and transform X_train_scaled\n",
    "    x_train_scaled_degree2 = pf.fit_transform(x_train_scaled)\n",
    "\n",
    "    # transform X_validate_scaled & X_test_scaled\n",
    "    x_validate_scaled_degree2 = pf.transform(x_validate_scaled)\n",
    "    x_test_scaled_degree2 = pf.transform(x_test_scaled)\n",
    "    \n",
    "    # create the model object\n",
    "    lm2 = LinearRegression(normalize=True)\n",
    "\n",
    "    # fit the model to our training data. We must specify the column in y_train, \n",
    "    # since we have converted it to a dataframe from a series! \n",
    "    lm2.fit(x_train_scaled_degree2, y_train.tax_value)\n",
    "\n",
    "    # predict train\n",
    "    y_train['tax_value_pred_lm2'] = lm2.predict(x_train_scaled_degree2)\n",
    "\n",
    "    # evaluate: rmse\n",
    "    rmse_train = mean_squared_error(y_train.tax_value, y_train.tax_value_pred_lm2)**(1/2)\n",
    "\n",
    "    # predict validate\n",
    "    y_validate['tax_value_pred_lm2'] = lm2.predict(x_validate_scaled_degree2)\n",
    "\n",
    "    # evaluate: rmse\n",
    "    rmse_validate = mean_squared_error(y_validate.tax_value, y_validate.tax_value_pred_lm2)**(1/2)\n",
    "\n",
    "    print(\"RMSE for Polynomial Model, degrees=2\\nTraining/In-Sample: \", rmse_train, \n",
    "          \"\\nValidation/Out-of-Sample: \", rmse_validate)\n",
    "    "
   ]
  },
  {
   "cell_type": "code",
   "execution_count": 29,
   "id": "58e09e02",
   "metadata": {
    "scrolled": false
   },
   "outputs": [
    {
     "name": "stdout",
     "output_type": "stream",
     "text": [
      "RMSE for Polynomial Model, degrees=2\n",
      "Training/In-Sample:  285135.8897185141 \n",
      "Validation/Out-of-Sample:  280525.2753433108\n"
     ]
    }
   ],
   "source": [
    "get_poly(x_train_scaled, y_train)"
   ]
  },
  {
   "cell_type": "code",
   "execution_count": 43,
   "id": "580300a7",
   "metadata": {
    "scrolled": false
   },
   "outputs": [
    {
     "data": {
      "text/html": [
       "<div>\n",
       "<style scoped>\n",
       "    .dataframe tbody tr th:only-of-type {\n",
       "        vertical-align: middle;\n",
       "    }\n",
       "\n",
       "    .dataframe tbody tr th {\n",
       "        vertical-align: top;\n",
       "    }\n",
       "\n",
       "    .dataframe thead th {\n",
       "        text-align: right;\n",
       "    }\n",
       "</style>\n",
       "<table border=\"1\" class=\"dataframe\">\n",
       "  <thead>\n",
       "    <tr style=\"text-align: right;\">\n",
       "      <th></th>\n",
       "      <th>tax_value</th>\n",
       "      <th>tax_value_pred_mean</th>\n",
       "      <th>tax_value_pred_median</th>\n",
       "      <th>tax_value_pred_lm</th>\n",
       "      <th>tax_value_pred_lars</th>\n",
       "      <th>tax_value_pred_glm</th>\n",
       "      <th>tax_value_pred_lm2</th>\n",
       "    </tr>\n",
       "  </thead>\n",
       "  <tbody>\n",
       "    <tr>\n",
       "      <th>8096</th>\n",
       "      <td>206483</td>\n",
       "      <td>445957.819914</td>\n",
       "      <td>363000.0</td>\n",
       "      <td>392758.090123</td>\n",
       "      <td>392753.032081</td>\n",
       "      <td>377474.583001</td>\n",
       "      <td>387092.079603</td>\n",
       "    </tr>\n",
       "    <tr>\n",
       "      <th>45007</th>\n",
       "      <td>110048</td>\n",
       "      <td>445957.819914</td>\n",
       "      <td>363000.0</td>\n",
       "      <td>382573.677449</td>\n",
       "      <td>382330.711419</td>\n",
       "      <td>347714.519021</td>\n",
       "      <td>390425.469488</td>\n",
       "    </tr>\n",
       "    <tr>\n",
       "      <th>43774</th>\n",
       "      <td>82423</td>\n",
       "      <td>445957.819914</td>\n",
       "      <td>363000.0</td>\n",
       "      <td>410366.938957</td>\n",
       "      <td>410338.708267</td>\n",
       "      <td>387057.648601</td>\n",
       "      <td>404948.566514</td>\n",
       "    </tr>\n",
       "  </tbody>\n",
       "</table>\n",
       "</div>"
      ],
      "text/plain": [
       "       tax_value  tax_value_pred_mean  tax_value_pred_median  \\\n",
       "8096      206483        445957.819914               363000.0   \n",
       "45007     110048        445957.819914               363000.0   \n",
       "43774      82423        445957.819914               363000.0   \n",
       "\n",
       "       tax_value_pred_lm  tax_value_pred_lars  tax_value_pred_glm  \\\n",
       "8096       392758.090123        392753.032081       377474.583001   \n",
       "45007      382573.677449        382330.711419       347714.519021   \n",
       "43774      410366.938957        410338.708267       387057.648601   \n",
       "\n",
       "       tax_value_pred_lm2  \n",
       "8096        387092.079603  \n",
       "45007       390425.469488  \n",
       "43774       404948.566514  "
      ]
     },
     "execution_count": 43,
     "metadata": {},
     "output_type": "execute_result"
    }
   ],
   "source": [
    "y_train.head(3)"
   ]
  },
  {
   "cell_type": "markdown",
   "id": "843716f5",
   "metadata": {},
   "source": [
    "# R^2 (check model predicted performance)"
   ]
  },
  {
   "cell_type": "code",
   "execution_count": 33,
   "id": "3300d4c9",
   "metadata": {},
   "outputs": [],
   "source": [
    "from sklearn.metrics import r2_score\n",
    "def calc_performance(y, yhat, featureN = 2):\n",
    "        # A version of R Squared which may be more accurate than when done by hand\n",
    "        r2 = r2_score(y, yhat)\n",
    "        # Adjusted R Squared\n",
    "        adjR2= 1-(1-r2)*(len(y)-1)/(len(y)-featureN-1)\n",
    "        return r2, adjR2"
   ]
  },
  {
   "cell_type": "code",
   "execution_count": 41,
   "id": "b9518604",
   "metadata": {},
   "outputs": [
    {
     "data": {
      "text/plain": [
       "(0.35621725972306284, 0.35617198508328807)"
      ]
     },
     "execution_count": 41,
     "metadata": {},
     "output_type": "execute_result"
    }
   ],
   "source": [
    "calc_performance(y_train.tax_value, y_train.tax_value_pred_lm2, featureN = 2)"
   ]
  },
  {
   "cell_type": "code",
   "execution_count": null,
   "id": "d69567ff",
   "metadata": {},
   "outputs": [],
   "source": []
  }
 ],
 "metadata": {
  "kernelspec": {
   "display_name": "Python 3 (ipykernel)",
   "language": "python",
   "name": "python3"
  },
  "language_info": {
   "codemirror_mode": {
    "name": "ipython",
    "version": 3
   },
   "file_extension": ".py",
   "mimetype": "text/x-python",
   "name": "python",
   "nbconvert_exporter": "python",
   "pygments_lexer": "ipython3",
   "version": "3.9.12"
  }
 },
 "nbformat": 4,
 "nbformat_minor": 5
}
