{
 "cells": [
  {
   "cell_type": "code",
   "execution_count": 1,
   "id": "05d0c4d3",
   "metadata": {},
   "outputs": [],
   "source": [
    "import numpy as np\n",
    "import pandas as pd\n",
    "import seaborn as sns\n",
    "import math\n",
    "import matplotlib.pyplot as plt\n",
    "\n",
    "import wrangle as w\n",
    "import explore as e\n",
    "import env\n",
    "\n",
    "from sklearn.model_selection import train_test_split\n",
    "from sklearn.feature_selection import SelectKBest, RFE, f_regression, SequentialFeatureSelector\n",
    "from sklearn.linear_model import LinearRegression, LassoLars, TweedieRegressor\n",
    "from sklearn.metrics import mean_squared_error\n",
    "from sklearn.preprocessing import MinMaxScaler, StandardScaler, RobustScaler, QuantileTransformer, PolynomialFeatures\n",
    "\n",
    "import warnings\n",
    "warnings.filterwarnings(\"ignore\")"
   ]
  },
  {
   "cell_type": "code",
   "execution_count": 2,
   "id": "4c5fa455",
   "metadata": {},
   "outputs": [],
   "source": [
    "df = w.wrangle_zillow()"
   ]
  },
  {
   "cell_type": "code",
   "execution_count": 3,
   "id": "f5777720",
   "metadata": {},
   "outputs": [
    {
     "data": {
      "text/html": [
       "<div>\n",
       "<style scoped>\n",
       "    .dataframe tbody tr th:only-of-type {\n",
       "        vertical-align: middle;\n",
       "    }\n",
       "\n",
       "    .dataframe tbody tr th {\n",
       "        vertical-align: top;\n",
       "    }\n",
       "\n",
       "    .dataframe thead th {\n",
       "        text-align: right;\n",
       "    }\n",
       "</style>\n",
       "<table border=\"1\" class=\"dataframe\">\n",
       "  <thead>\n",
       "    <tr style=\"text-align: right;\">\n",
       "      <th></th>\n",
       "      <th>bedrooms</th>\n",
       "      <th>bathrooms</th>\n",
       "      <th>sq_feet</th>\n",
       "      <th>tax_value</th>\n",
       "      <th>year_built</th>\n",
       "      <th>tax_amount</th>\n",
       "      <th>fips</th>\n",
       "    </tr>\n",
       "  </thead>\n",
       "  <tbody>\n",
       "    <tr>\n",
       "      <th>0</th>\n",
       "      <td>4</td>\n",
       "      <td>3.5</td>\n",
       "      <td>3100</td>\n",
       "      <td>1023282</td>\n",
       "      <td>1998</td>\n",
       "      <td>11013.72</td>\n",
       "      <td>6059</td>\n",
       "    </tr>\n",
       "    <tr>\n",
       "      <th>1</th>\n",
       "      <td>2</td>\n",
       "      <td>1.0</td>\n",
       "      <td>1465</td>\n",
       "      <td>464000</td>\n",
       "      <td>1967</td>\n",
       "      <td>5672.48</td>\n",
       "      <td>6111</td>\n",
       "    </tr>\n",
       "    <tr>\n",
       "      <th>2</th>\n",
       "      <td>3</td>\n",
       "      <td>2.0</td>\n",
       "      <td>1243</td>\n",
       "      <td>564778</td>\n",
       "      <td>1962</td>\n",
       "      <td>6488.30</td>\n",
       "      <td>6059</td>\n",
       "    </tr>\n",
       "    <tr>\n",
       "      <th>3</th>\n",
       "      <td>4</td>\n",
       "      <td>3.0</td>\n",
       "      <td>2376</td>\n",
       "      <td>145143</td>\n",
       "      <td>1970</td>\n",
       "      <td>1777.51</td>\n",
       "      <td>6037</td>\n",
       "    </tr>\n",
       "    <tr>\n",
       "      <th>4</th>\n",
       "      <td>4</td>\n",
       "      <td>3.0</td>\n",
       "      <td>2962</td>\n",
       "      <td>773303</td>\n",
       "      <td>1950</td>\n",
       "      <td>9516.26</td>\n",
       "      <td>6037</td>\n",
       "    </tr>\n",
       "  </tbody>\n",
       "</table>\n",
       "</div>"
      ],
      "text/plain": [
       "   bedrooms  bathrooms  sq_feet  tax_value  year_built  tax_amount  fips\n",
       "0         4        3.5     3100    1023282        1998    11013.72  6059\n",
       "1         2        1.0     1465     464000        1967     5672.48  6111\n",
       "2         3        2.0     1243     564778        1962     6488.30  6059\n",
       "3         4        3.0     2376     145143        1970     1777.51  6037\n",
       "4         4        3.0     2962     773303        1950     9516.26  6037"
      ]
     },
     "execution_count": 3,
     "metadata": {},
     "output_type": "execute_result"
    }
   ],
   "source": [
    "df.head()"
   ]
  },
  {
   "cell_type": "code",
   "execution_count": 4,
   "id": "f32c27e5",
   "metadata": {
    "scrolled": true
   },
   "outputs": [
    {
     "name": "stdout",
     "output_type": "stream",
     "text": [
      "<class 'pandas.core.frame.DataFrame'>\n",
      "RangeIndex: 50790 entries, 0 to 50789\n",
      "Data columns (total 7 columns):\n",
      " #   Column      Non-Null Count  Dtype  \n",
      "---  ------      --------------  -----  \n",
      " 0   bedrooms    50790 non-null  int64  \n",
      " 1   bathrooms   50790 non-null  float64\n",
      " 2   sq_feet     50790 non-null  int64  \n",
      " 3   tax_value   50790 non-null  int64  \n",
      " 4   year_built  50790 non-null  int64  \n",
      " 5   tax_amount  50790 non-null  float64\n",
      " 6   fips        50790 non-null  int64  \n",
      "dtypes: float64(2), int64(5)\n",
      "memory usage: 2.7 MB\n"
     ]
    }
   ],
   "source": [
    "df.info()"
   ]
  },
  {
   "cell_type": "code",
   "execution_count": 5,
   "id": "0d026a36",
   "metadata": {},
   "outputs": [],
   "source": [
    "train, validate, test = w.split_data(df)"
   ]
  },
  {
   "cell_type": "code",
   "execution_count": 6,
   "id": "407f9fc8",
   "metadata": {},
   "outputs": [],
   "source": [
    "train_scaled, validate_scaled, test_scaled = w.scale_data(train, validate, test)"
   ]
  },
  {
   "cell_type": "code",
   "execution_count": 7,
   "id": "2aafbeec",
   "metadata": {
    "scrolled": true
   },
   "outputs": [
    {
     "data": {
      "text/html": [
       "<div>\n",
       "<style scoped>\n",
       "    .dataframe tbody tr th:only-of-type {\n",
       "        vertical-align: middle;\n",
       "    }\n",
       "\n",
       "    .dataframe tbody tr th {\n",
       "        vertical-align: top;\n",
       "    }\n",
       "\n",
       "    .dataframe thead th {\n",
       "        text-align: right;\n",
       "    }\n",
       "</style>\n",
       "<table border=\"1\" class=\"dataframe\">\n",
       "  <thead>\n",
       "    <tr style=\"text-align: right;\">\n",
       "      <th></th>\n",
       "      <th>bedrooms</th>\n",
       "      <th>bathrooms</th>\n",
       "      <th>sq_feet</th>\n",
       "      <th>tax_value</th>\n",
       "      <th>year_built</th>\n",
       "      <th>tax_amount</th>\n",
       "      <th>fips</th>\n",
       "    </tr>\n",
       "  </thead>\n",
       "  <tbody>\n",
       "    <tr>\n",
       "      <th>8096</th>\n",
       "      <td>0.500000</td>\n",
       "      <td>0.333333</td>\n",
       "      <td>0.162985</td>\n",
       "      <td>206483</td>\n",
       "      <td>1983</td>\n",
       "      <td>0.036235</td>\n",
       "      <td>6111</td>\n",
       "    </tr>\n",
       "    <tr>\n",
       "      <th>45007</th>\n",
       "      <td>0.333333</td>\n",
       "      <td>0.166667</td>\n",
       "      <td>0.152955</td>\n",
       "      <td>110048</td>\n",
       "      <td>1970</td>\n",
       "      <td>0.023914</td>\n",
       "      <td>6037</td>\n",
       "    </tr>\n",
       "    <tr>\n",
       "      <th>43774</th>\n",
       "      <td>0.500000</td>\n",
       "      <td>0.333333</td>\n",
       "      <td>0.171701</td>\n",
       "      <td>82423</td>\n",
       "      <td>1956</td>\n",
       "      <td>0.018175</td>\n",
       "      <td>6059</td>\n",
       "    </tr>\n",
       "  </tbody>\n",
       "</table>\n",
       "</div>"
      ],
      "text/plain": [
       "       bedrooms  bathrooms   sq_feet  tax_value  year_built  tax_amount  fips\n",
       "8096   0.500000   0.333333  0.162985     206483        1983    0.036235  6111\n",
       "45007  0.333333   0.166667  0.152955     110048        1970    0.023914  6037\n",
       "43774  0.500000   0.333333  0.171701      82423        1956    0.018175  6059"
      ]
     },
     "execution_count": 7,
     "metadata": {},
     "output_type": "execute_result"
    }
   ],
   "source": [
    "train_scaled.head(3)"
   ]
  },
  {
   "cell_type": "code",
   "execution_count": 8,
   "id": "5221c926",
   "metadata": {},
   "outputs": [
    {
     "data": {
      "text/plain": [
       "bedrooms      float64\n",
       "bathrooms     float64\n",
       "sq_feet       float64\n",
       "tax_value       int64\n",
       "year_built      int64\n",
       "tax_amount    float64\n",
       "fips            int64\n",
       "dtype: object"
      ]
     },
     "execution_count": 8,
     "metadata": {},
     "output_type": "execute_result"
    }
   ],
   "source": [
    "train_scaled.dtypes"
   ]
  },
  {
   "cell_type": "code",
   "execution_count": 9,
   "id": "715fe962",
   "metadata": {},
   "outputs": [],
   "source": [
    "#x_cols = train_scaled[['bedrooms','bathrooms','sq_feet']]"
   ]
  },
  {
   "cell_type": "code",
   "execution_count": 10,
   "id": "c3485589",
   "metadata": {},
   "outputs": [],
   "source": [
    "#y_cols = train_scaled.tax_value"
   ]
  },
  {
   "cell_type": "code",
   "execution_count": 11,
   "id": "93247c72",
   "metadata": {},
   "outputs": [],
   "source": [
    "#x_cols.dtypes"
   ]
  },
  {
   "cell_type": "code",
   "execution_count": 12,
   "id": "2d44c6ca",
   "metadata": {},
   "outputs": [],
   "source": [
    "#y_cols.dtypes"
   ]
  },
  {
   "cell_type": "code",
   "execution_count": 13,
   "id": "a62a4f2f",
   "metadata": {},
   "outputs": [],
   "source": [
    "#x_cols_list = list(x_cols)"
   ]
  },
  {
   "cell_type": "code",
   "execution_count": 14,
   "id": "611ef9e5",
   "metadata": {},
   "outputs": [],
   "source": [
    "#x_cols[x_cols_list[0]]"
   ]
  },
  {
   "cell_type": "code",
   "execution_count": 15,
   "id": "d4ed026c",
   "metadata": {},
   "outputs": [],
   "source": [
    "#for i in x_cols[1:]:\n",
    "#    print(i)\n",
    " #   plt.figure()\n",
    "  #  plt.plot(y_cols,x_cols[i])\n",
    "  #  plt.show()"
   ]
  },
  {
   "cell_type": "code",
   "execution_count": 16,
   "id": "d74b4143",
   "metadata": {
    "scrolled": true
   },
   "outputs": [],
   "source": [
    "#e.plot_categorical_and_continuous_vars(train_scaled, x_cols,y_cols)"
   ]
  },
  {
   "cell_type": "code",
   "execution_count": 17,
   "id": "123ad2c8",
   "metadata": {
    "scrolled": false
   },
   "outputs": [],
   "source": [
    "#e.plot_variable_pairs(x_cols, y_cols)"
   ]
  },
  {
   "cell_type": "code",
   "execution_count": 18,
   "id": "4f088b04",
   "metadata": {},
   "outputs": [],
   "source": [
    "#x_cols['bedrooms']"
   ]
  },
  {
   "cell_type": "code",
   "execution_count": 19,
   "id": "61aafe07",
   "metadata": {},
   "outputs": [],
   "source": [
    "x_train_scaled = train_scaled[['bedrooms', 'bathrooms', 'sq_feet']]\n",
    "y_train = train[['tax_value']]\n",
    "\n",
    "x_validate_scaled = validate_scaled[['bedrooms', 'bathrooms', 'sq_feet']]\n",
    "y_validate = validate[['tax_value']]\n",
    "\n",
    "x_test_scaled = test_scaled[['bedrooms', 'bathrooms', 'sq_feet']]\n",
    "y_test = test[['tax_value']]"
   ]
  },
  {
   "cell_type": "markdown",
   "id": "b2a259a2",
   "metadata": {},
   "source": [
    "# Baseline"
   ]
  },
  {
   "cell_type": "code",
   "execution_count": 20,
   "id": "4f23c2cc",
   "metadata": {},
   "outputs": [],
   "source": [
    "def get_baseline(x_train_scaled, y_train):\n",
    "    y_train['tax_value_pred_mean']= y_train['tax_value'].mean()\n",
    "    y_validate['tax_value_pred_mean']= y_validate['tax_value'].mean()\n",
    "\n",
    "    y_train['tax_value_pred_median'] = y_train['tax_value'].median()\n",
    "    y_validate['tax_value_pred_median'] = y_validate['tax_value'].median()\n",
    "\n",
    "    rmse_train = mean_squared_error(y_train.tax_value, y_train.tax_value_pred_mean)**(1/2)\n",
    "    rmse_validate = mean_squared_error(y_validate.tax_value, y_validate.tax_value_pred_mean)**(1/2)\n",
    "\n",
    "    print(\"RMSE using Mean\\nTrain/In-Sample: \", round(rmse_train, 2), \n",
    "          \"\\nValidate/Out-of-Sample: \", round(rmse_validate, 2))\n",
    "    \n",
    "    rmse_train = mean_squared_error(y_train.tax_value, y_train.tax_value_pred_median)**(1/2)\n",
    "    rmse_validate = mean_squared_error(y_validate.tax_value, y_validate.tax_value_pred_median)**(1/2)\n",
    "\n",
    "    print(\"RMSE using Median\\nTrain/In-Sample: \", round(rmse_train, 2), \n",
    "          \"\\nValidate/Out-of-Sample: \", round(rmse_validate, 2))"
   ]
  },
  {
   "cell_type": "code",
   "execution_count": 21,
   "id": "b1b89309",
   "metadata": {},
   "outputs": [
    {
     "name": "stdout",
     "output_type": "stream",
     "text": [
      "RMSE using Mean\n",
      "Train/In-Sample:  355371.19 \n",
      "Validate/Out-of-Sample:  347152.8\n",
      "RMSE using Median\n",
      "Train/In-Sample:  364925.59 \n",
      "Validate/Out-of-Sample:  355040.41\n"
     ]
    }
   ],
   "source": [
    "get_baseline(x_train_scaled, y_train)"
   ]
  },
  {
   "cell_type": "markdown",
   "id": "df8e97c6",
   "metadata": {},
   "source": [
    "# LinearRegression (OLS)"
   ]
  },
  {
   "cell_type": "code",
   "execution_count": 22,
   "id": "bc0aa487",
   "metadata": {},
   "outputs": [],
   "source": [
    "def get_ols(x_train_scaled, y_train):\n",
    "    # create the model object\n",
    "    lm = LinearRegression(normalize=True)\n",
    "\n",
    "    # fit the model to our training data. We must specify the column in y_train, \n",
    "    # since we have converted it to a dataframe from a series! \n",
    "    lm.fit(x_train_scaled, y_train.tax_value)\n",
    "\n",
    "    # predict train\n",
    "    y_train['tax_value_pred_lm'] = lm.predict(x_train_scaled)\n",
    "\n",
    "    # evaluate: rmse\n",
    "    rmse_train = mean_squared_error(y_train.tax_value, y_train.tax_value_pred_lm)**(1/2)\n",
    "\n",
    "    # predict validate\n",
    "    y_validate['tax_value_pred_lm'] = lm.predict(x_validate_scaled)\n",
    "\n",
    "    # evaluate: rmse\n",
    "    rmse_validate = mean_squared_error(y_validate.tax_value, y_validate.tax_value_pred_lm)**(1/2)\n",
    "\n",
    "    print(\"RMSE for OLS using LinearRegression\\nTraining/In-Sample: \", rmse_train, \n",
    "          \"\\nValidation/Out-of-Sample: \", rmse_validate)"
   ]
  },
  {
   "cell_type": "code",
   "execution_count": 23,
   "id": "983e1720",
   "metadata": {},
   "outputs": [
    {
     "name": "stdout",
     "output_type": "stream",
     "text": [
      "RMSE for OLS using LinearRegression\n",
      "Training/In-Sample:  286205.31265758 \n",
      "Validation/Out-of-Sample:  281570.92470836977\n"
     ]
    }
   ],
   "source": [
    "get_ols(x_train_scaled, y_train)"
   ]
  },
  {
   "cell_type": "markdown",
   "id": "a8077efb",
   "metadata": {},
   "source": [
    "# Lars"
   ]
  },
  {
   "cell_type": "code",
   "execution_count": 24,
   "id": "363755f9",
   "metadata": {},
   "outputs": [],
   "source": [
    "def get_lars(x_train_scaled, y_train):\n",
    "    lars = LassoLars(alpha=1.0)\n",
    "    #scaler = MinMaxScaler()\n",
    "    #x_train_scaled = x_train_scaled.copy()\n",
    "    #x_train_scaled[['bedrooms','bathrooms','sq_feet','year_built','tax_amount','fips']] = scaler.fit_transform(x_train_scaled)\n",
    "    #x_validate_scaled = x_validate_scaled.copy()\n",
    "    #x_validate_scaled[['bedrooms','bathrooms','sq_feet','year_built','tax_amount','fips']] = scaler.fit_transform(x_validate_scaled)\n",
    "\n",
    "    lars.fit(x_train_scaled, y_train.tax_value)\n",
    "\n",
    "    y_train['tax_value_pred_lars'] = lars.predict(x_train_scaled)\n",
    "\n",
    "    # evaluate: rmse\n",
    "    rmse_train = mean_squared_error(y_train.tax_value, y_train.tax_value_pred_lars)**(1/2)\n",
    "\n",
    "    # predict validate\n",
    "    y_validate['tax_value_pred_lars'] = lars.predict(x_validate_scaled)\n",
    "\n",
    "    # evaluate: rmse\n",
    "    rmse_validate = mean_squared_error(y_validate.tax_value, y_validate.tax_value_pred_lars)**(1/2)\n",
    "\n",
    "    print(\"RMSE for Lasso + Lars\\nTraining/In-Sample: \", rmse_train, \n",
    "          \"\\nValidation/Out-of-Sample: \", rmse_validate)"
   ]
  },
  {
   "cell_type": "code",
   "execution_count": 25,
   "id": "f48cada2",
   "metadata": {},
   "outputs": [
    {
     "name": "stdout",
     "output_type": "stream",
     "text": [
      "RMSE for Lasso + Lars\n",
      "Training/In-Sample:  286205.6184335364 \n",
      "Validation/Out-of-Sample:  281570.55340928794\n"
     ]
    }
   ],
   "source": [
    "get_lars(x_train_scaled, y_train)"
   ]
  },
  {
   "cell_type": "markdown",
   "id": "123a2edf",
   "metadata": {},
   "source": [
    "# TweedieRegressor (GLM)"
   ]
  },
  {
   "cell_type": "code",
   "execution_count": 26,
   "id": "89ee5161",
   "metadata": {},
   "outputs": [],
   "source": [
    "def get_glm(x_train_scaled, y_train):\n",
    "    \n",
    "    # create the model object\n",
    "    glm = TweedieRegressor(power=1, alpha=0)\n",
    "\n",
    "    # fit the model to our training data. We must specify the column in y_train, \n",
    "    # since we have converted it to a dataframe from a series! \n",
    "    glm.fit(x_train_scaled, y_train.tax_value)\n",
    "\n",
    "    # predict train\n",
    "    y_train['tax_value_pred_glm'] = glm.predict(x_train_scaled)\n",
    "\n",
    "    # evaluate: rmse\n",
    "    rmse_train = mean_squared_error(y_train.tax_value, y_train.tax_value_pred_glm)**(1/2)\n",
    "\n",
    "    # predict validate\n",
    "    y_validate['tax_value_pred_glm'] = glm.predict(x_validate_scaled)\n",
    "\n",
    "    # evaluate: rmse\n",
    "    rmse_validate = mean_squared_error(y_validate.tax_value, y_validate.tax_value_pred_glm)**(1/2)\n",
    "\n",
    "    print(\"RMSE for GLM using Tweedie, power=1 & alpha=0\\nTraining/In-Sample: \", rmse_train, \n",
    "          \"\\nValidation/Out-of-Sample: \", rmse_validate)"
   ]
  },
  {
   "cell_type": "code",
   "execution_count": 27,
   "id": "c7151dc2",
   "metadata": {},
   "outputs": [
    {
     "name": "stdout",
     "output_type": "stream",
     "text": [
      "RMSE for GLM using Tweedie, power=1 & alpha=0\n",
      "Training/In-Sample:  296696.93800469773 \n",
      "Validation/Out-of-Sample:  288237.9091112238\n"
     ]
    }
   ],
   "source": [
    "get_glm(x_train_scaled, y_train)"
   ]
  },
  {
   "cell_type": "markdown",
   "id": "eba95787",
   "metadata": {},
   "source": [
    "# Polynomial Regression"
   ]
  },
  {
   "cell_type": "code",
   "execution_count": 28,
   "id": "9ae19d6a",
   "metadata": {},
   "outputs": [],
   "source": [
    "def get_poly(x_train_scaled, y_train):\n",
    "    # make the polynomial features to get a new set of features\n",
    "    pf = PolynomialFeatures(degree=2)\n",
    "\n",
    "    # fit and transform X_train_scaled\n",
    "    x_train_scaled_degree2 = pf.fit_transform(x_train_scaled)\n",
    "\n",
    "    # transform X_validate_scaled & X_test_scaled\n",
    "    x_validate_scaled_degree2 = pf.transform(x_validate_scaled)\n",
    "    x_test_scaled_degree2 = pf.transform(x_test_scaled)\n",
    "    \n",
    "    # create the model object\n",
    "    lm2 = LinearRegression(normalize=True)\n",
    "\n",
    "    # fit the model to our training data. We must specify the column in y_train, \n",
    "    # since we have converted it to a dataframe from a series! \n",
    "    lm2.fit(x_train_scaled_degree2, y_train.tax_value)\n",
    "\n",
    "    # predict train\n",
    "    y_train['tax_value_pred_lm2'] = lm2.predict(x_train_scaled_degree2)\n",
    "\n",
    "    # evaluate: rmse\n",
    "    rmse_train = mean_squared_error(y_train.tax_value, y_train.tax_value_pred_lm2)**(1/2)\n",
    "\n",
    "    # predict validate\n",
    "    y_validate['tax_value_pred_lm2'] = lm2.predict(x_validate_scaled_degree2)\n",
    "\n",
    "    # evaluate: rmse\n",
    "    rmse_validate = mean_squared_error(y_validate.tax_value, y_validate.tax_value_pred_lm2)**(1/2)\n",
    "\n",
    "    print(\"RMSE for Polynomial Model, degrees=2\\nTraining/In-Sample: \", rmse_train, \n",
    "          \"\\nValidation/Out-of-Sample: \", rmse_validate)\n",
    "    "
   ]
  },
  {
   "cell_type": "code",
   "execution_count": 29,
   "id": "1a484b3e",
   "metadata": {},
   "outputs": [
    {
     "name": "stdout",
     "output_type": "stream",
     "text": [
      "RMSE for Polynomial Model, degrees=2\n",
      "Training/In-Sample:  285135.8897185141 \n",
      "Validation/Out-of-Sample:  280525.2753433108\n"
     ]
    }
   ],
   "source": [
    "get_poly(x_train_scaled, y_train)"
   ]
  },
  {
   "cell_type": "markdown",
   "id": "129ab08e",
   "metadata": {},
   "source": [
    "# Evaluation"
   ]
  },
  {
   "cell_type": "code",
   "execution_count": 32,
   "id": "7b148ace",
   "metadata": {},
   "outputs": [
    {
     "data": {
      "text/html": [
       "<div>\n",
       "<style scoped>\n",
       "    .dataframe tbody tr th:only-of-type {\n",
       "        vertical-align: middle;\n",
       "    }\n",
       "\n",
       "    .dataframe tbody tr th {\n",
       "        vertical-align: top;\n",
       "    }\n",
       "\n",
       "    .dataframe thead th {\n",
       "        text-align: right;\n",
       "    }\n",
       "</style>\n",
       "<table border=\"1\" class=\"dataframe\">\n",
       "  <thead>\n",
       "    <tr style=\"text-align: right;\">\n",
       "      <th></th>\n",
       "      <th>bedrooms</th>\n",
       "      <th>bathrooms</th>\n",
       "      <th>sq_feet</th>\n",
       "    </tr>\n",
       "  </thead>\n",
       "  <tbody>\n",
       "    <tr>\n",
       "      <th>8096</th>\n",
       "      <td>0.500000</td>\n",
       "      <td>0.333333</td>\n",
       "      <td>0.162985</td>\n",
       "    </tr>\n",
       "    <tr>\n",
       "      <th>45007</th>\n",
       "      <td>0.333333</td>\n",
       "      <td>0.166667</td>\n",
       "      <td>0.152955</td>\n",
       "    </tr>\n",
       "    <tr>\n",
       "      <th>43774</th>\n",
       "      <td>0.500000</td>\n",
       "      <td>0.333333</td>\n",
       "      <td>0.171701</td>\n",
       "    </tr>\n",
       "    <tr>\n",
       "      <th>1082</th>\n",
       "      <td>0.500000</td>\n",
       "      <td>0.250000</td>\n",
       "      <td>0.105791</td>\n",
       "    </tr>\n",
       "    <tr>\n",
       "      <th>13597</th>\n",
       "      <td>0.666667</td>\n",
       "      <td>1.000000</td>\n",
       "      <td>0.587224</td>\n",
       "    </tr>\n",
       "  </tbody>\n",
       "</table>\n",
       "</div>"
      ],
      "text/plain": [
       "       bedrooms  bathrooms   sq_feet\n",
       "8096   0.500000   0.333333  0.162985\n",
       "45007  0.333333   0.166667  0.152955\n",
       "43774  0.500000   0.333333  0.171701\n",
       "1082   0.500000   0.250000  0.105791\n",
       "13597  0.666667   1.000000  0.587224"
      ]
     },
     "execution_count": 32,
     "metadata": {},
     "output_type": "execute_result"
    }
   ],
   "source": [
    "x_train_scaled.head()"
   ]
  },
  {
   "cell_type": "code",
   "execution_count": 31,
   "id": "5c87d2fa",
   "metadata": {
    "scrolled": true
   },
   "outputs": [
    {
     "data": {
      "text/html": [
       "<div>\n",
       "<style scoped>\n",
       "    .dataframe tbody tr th:only-of-type {\n",
       "        vertical-align: middle;\n",
       "    }\n",
       "\n",
       "    .dataframe tbody tr th {\n",
       "        vertical-align: top;\n",
       "    }\n",
       "\n",
       "    .dataframe thead th {\n",
       "        text-align: right;\n",
       "    }\n",
       "</style>\n",
       "<table border=\"1\" class=\"dataframe\">\n",
       "  <thead>\n",
       "    <tr style=\"text-align: right;\">\n",
       "      <th></th>\n",
       "      <th>tax_value</th>\n",
       "      <th>tax_value_pred_mean</th>\n",
       "      <th>tax_value_pred_median</th>\n",
       "      <th>tax_value_pred_lm</th>\n",
       "      <th>tax_value_pred_lars</th>\n",
       "      <th>tax_value_pred_glm</th>\n",
       "      <th>tax_value_pred_lm2</th>\n",
       "    </tr>\n",
       "  </thead>\n",
       "  <tbody>\n",
       "    <tr>\n",
       "      <th>8096</th>\n",
       "      <td>206483</td>\n",
       "      <td>445957.819914</td>\n",
       "      <td>363000.0</td>\n",
       "      <td>3.927581e+05</td>\n",
       "      <td>3.927530e+05</td>\n",
       "      <td>3.774746e+05</td>\n",
       "      <td>3.870921e+05</td>\n",
       "    </tr>\n",
       "    <tr>\n",
       "      <th>45007</th>\n",
       "      <td>110048</td>\n",
       "      <td>445957.819914</td>\n",
       "      <td>363000.0</td>\n",
       "      <td>3.825737e+05</td>\n",
       "      <td>3.823307e+05</td>\n",
       "      <td>3.477145e+05</td>\n",
       "      <td>3.904255e+05</td>\n",
       "    </tr>\n",
       "    <tr>\n",
       "      <th>43774</th>\n",
       "      <td>82423</td>\n",
       "      <td>445957.819914</td>\n",
       "      <td>363000.0</td>\n",
       "      <td>4.103669e+05</td>\n",
       "      <td>4.103387e+05</td>\n",
       "      <td>3.870576e+05</td>\n",
       "      <td>4.049486e+05</td>\n",
       "    </tr>\n",
       "    <tr>\n",
       "      <th>1082</th>\n",
       "      <td>373151</td>\n",
       "      <td>445957.819914</td>\n",
       "      <td>363000.0</td>\n",
       "      <td>2.477532e+05</td>\n",
       "      <td>2.480505e+05</td>\n",
       "      <td>2.970859e+05</td>\n",
       "      <td>2.565237e+05</td>\n",
       "    </tr>\n",
       "    <tr>\n",
       "      <th>13597</th>\n",
       "      <td>1430885</td>\n",
       "      <td>445957.819914</td>\n",
       "      <td>363000.0</td>\n",
       "      <td>1.416496e+06</td>\n",
       "      <td>1.414726e+06</td>\n",
       "      <td>2.115100e+06</td>\n",
       "      <td>1.651991e+06</td>\n",
       "    </tr>\n",
       "  </tbody>\n",
       "</table>\n",
       "</div>"
      ],
      "text/plain": [
       "       tax_value  tax_value_pred_mean  tax_value_pred_median  \\\n",
       "8096      206483        445957.819914               363000.0   \n",
       "45007     110048        445957.819914               363000.0   \n",
       "43774      82423        445957.819914               363000.0   \n",
       "1082      373151        445957.819914               363000.0   \n",
       "13597    1430885        445957.819914               363000.0   \n",
       "\n",
       "       tax_value_pred_lm  tax_value_pred_lars  tax_value_pred_glm  \\\n",
       "8096        3.927581e+05         3.927530e+05        3.774746e+05   \n",
       "45007       3.825737e+05         3.823307e+05        3.477145e+05   \n",
       "43774       4.103669e+05         4.103387e+05        3.870576e+05   \n",
       "1082        2.477532e+05         2.480505e+05        2.970859e+05   \n",
       "13597       1.416496e+06         1.414726e+06        2.115100e+06   \n",
       "\n",
       "       tax_value_pred_lm2  \n",
       "8096         3.870921e+05  \n",
       "45007        3.904255e+05  \n",
       "43774        4.049486e+05  \n",
       "1082         2.565237e+05  \n",
       "13597        1.651991e+06  "
      ]
     },
     "execution_count": 31,
     "metadata": {},
     "output_type": "execute_result"
    }
   ],
   "source": [
    "y_train.head()"
   ]
  },
  {
   "cell_type": "code",
   "execution_count": null,
   "id": "9a7fdceb",
   "metadata": {},
   "outputs": [],
   "source": [
    "SSE = mean_squared_error(y_train.tax_value, df.yhat)*len(y_train)\n",
    "SSE_baseline = mean_squared_error(df.y, df.yhat_baseline)*len(df)\n",
    "\n",
    "#print(\"SSE manual == SSE sklearn: \", SSE == SSE2) \n",
    "#print(\"SSE manual - baseline == SSE sklearn - baseline: \", SSE_baseline == SSE2_baseline) "
   ]
  }
 ],
 "metadata": {
  "kernelspec": {
   "display_name": "Python 3 (ipykernel)",
   "language": "python",
   "name": "python3"
  },
  "language_info": {
   "codemirror_mode": {
    "name": "ipython",
    "version": 3
   },
   "file_extension": ".py",
   "mimetype": "text/x-python",
   "name": "python",
   "nbconvert_exporter": "python",
   "pygments_lexer": "ipython3",
   "version": "3.9.12"
  }
 },
 "nbformat": 4,
 "nbformat_minor": 5
}
