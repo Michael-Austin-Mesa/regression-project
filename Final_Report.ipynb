{
 "cells": [
  {
   "cell_type": "markdown",
   "id": "0f6a3107",
   "metadata": {},
   "source": [
    "# Single Family Property Values\n",
    "\n",
    "## Goals:\n",
    "\n",
    "- Explore the effects of the number of bedrooms, bathrooms and square footage of Single Family Properties that had a transaction in 2017.\n",
    "\n",
    "\n",
    "- Construct a ML regression model that accurately predicts property tax value."
   ]
  },
  {
   "cell_type": "markdown",
   "id": "c953ad98",
   "metadata": {},
   "source": [
    "# Imports"
   ]
  },
  {
   "cell_type": "code",
   "execution_count": 2,
   "id": "6044362c",
   "metadata": {},
   "outputs": [
    {
     "ename": "ModuleNotFoundError",
     "evalue": "No module named 'explore'",
     "output_type": "error",
     "traceback": [
      "\u001b[0;31m---------------------------------------------------------------------------\u001b[0m",
      "\u001b[0;31mModuleNotFoundError\u001b[0m                       Traceback (most recent call last)",
      "Input \u001b[0;32mIn [2]\u001b[0m, in \u001b[0;36m<cell line: 8>\u001b[0;34m()\u001b[0m\n\u001b[1;32m      5\u001b[0m \u001b[38;5;28;01mimport\u001b[39;00m \u001b[38;5;21;01mmatplotlib\u001b[39;00m\u001b[38;5;21;01m.\u001b[39;00m\u001b[38;5;21;01mpyplot\u001b[39;00m \u001b[38;5;28;01mas\u001b[39;00m \u001b[38;5;21;01mplt\u001b[39;00m\n\u001b[1;32m      7\u001b[0m \u001b[38;5;28;01mimport\u001b[39;00m \u001b[38;5;21;01mwrangle\u001b[39;00m \u001b[38;5;28;01mas\u001b[39;00m \u001b[38;5;21;01mw\u001b[39;00m\n\u001b[0;32m----> 8\u001b[0m \u001b[38;5;28;01mimport\u001b[39;00m \u001b[38;5;21;01mviz\u001b[39;00m \u001b[38;5;28;01mas\u001b[39;00m \u001b[38;5;21;01mv\u001b[39;00m\n\u001b[1;32m      9\u001b[0m \u001b[38;5;28;01mimport\u001b[39;00m \u001b[38;5;21;01mmodel\u001b[39;00m \u001b[38;5;28;01mas\u001b[39;00m \u001b[38;5;21;01mm\u001b[39;00m\n\u001b[1;32m     11\u001b[0m \u001b[38;5;28;01mimport\u001b[39;00m \u001b[38;5;21;01menv\u001b[39;00m\n",
      "File \u001b[0;32m~/codeup-data-science/regression-project/viz.py:14\u001b[0m, in \u001b[0;36m<module>\u001b[0;34m\u001b[0m\n\u001b[1;32m     11\u001b[0m \u001b[38;5;28;01mimport\u001b[39;00m \u001b[38;5;21;01mmatplotlib\u001b[39;00m\u001b[38;5;21;01m.\u001b[39;00m\u001b[38;5;21;01mpyplot\u001b[39;00m \u001b[38;5;28;01mas\u001b[39;00m \u001b[38;5;21;01mplt\u001b[39;00m\n\u001b[1;32m     13\u001b[0m \u001b[38;5;28;01mimport\u001b[39;00m \u001b[38;5;21;01mwrangle\u001b[39;00m \u001b[38;5;28;01mas\u001b[39;00m \u001b[38;5;21;01mw\u001b[39;00m\n\u001b[0;32m---> 14\u001b[0m \u001b[38;5;28;01mimport\u001b[39;00m \u001b[38;5;21;01mexplore\u001b[39;00m \u001b[38;5;28;01mas\u001b[39;00m \u001b[38;5;21;01me\u001b[39;00m\n\u001b[1;32m     15\u001b[0m \u001b[38;5;28;01mimport\u001b[39;00m \u001b[38;5;21;01menv\u001b[39;00m\n\u001b[1;32m     16\u001b[0m \u001b[38;5;28;01mfrom\u001b[39;00m \u001b[38;5;21;01mscipy\u001b[39;00m \u001b[38;5;28;01mimport\u001b[39;00m stats\n",
      "\u001b[0;31mModuleNotFoundError\u001b[0m: No module named 'explore'"
     ]
    }
   ],
   "source": [
    "import numpy as np\n",
    "import pandas as pd\n",
    "import seaborn as sns\n",
    "import math\n",
    "import matplotlib.pyplot as plt\n",
    "\n",
    "import wrangle as w\n",
    "import viz as v\n",
    "import model as m\n",
    "\n",
    "import env\n",
    "from scipy import stats\n",
    "\n",
    "from sklearn.model_selection import train_test_split\n",
    "from sklearn.feature_selection import SelectKBest, RFE, f_regression, SequentialFeatureSelector\n",
    "from sklearn.linear_model import LinearRegression, LassoLars, TweedieRegressor\n",
    "from sklearn.metrics import mean_squared_error\n",
    "from sklearn.preprocessing import MinMaxScaler, StandardScaler, RobustScaler, QuantileTransformer, PolynomialFeatures\n",
    "\n",
    "import warnings\n",
    "warnings.filterwarnings(\"ignore\")"
   ]
  },
  {
   "cell_type": "markdown",
   "id": "ed0c4198",
   "metadata": {},
   "source": [
    "# Acquire\n",
    "\n",
    "- Data acquired from zillow database\n",
    "\n",
    "\n",
    "- It contained 52,441 rows and 7 columns before cleaning\n",
    "\n",
    "\n",
    "- Each row represents a Single Family Property that had a transaction in 2017\n",
    "\n",
    "\n",
    "- Each column represents a feature that describes the Single Property Home"
   ]
  },
  {
   "cell_type": "code",
   "execution_count": 3,
   "id": "be01022b",
   "metadata": {},
   "outputs": [],
   "source": [
    "# Acquiring data and clean-up\n",
    "df = w.wrangle_zillow()"
   ]
  },
  {
   "cell_type": "markdown",
   "id": "ab09f375",
   "metadata": {},
   "source": [
    "# Prepare\n",
    "\n",
    "- Check for nulls (nulls were found and removed)\n",
    "\n",
    "\n",
    "- Renamed columns for readability\n",
    "\n",
    "\n",
    "- Optimized data types to integers where possible without losing data\n",
    "\n",
    "\n",
    "- Split data into train, validate, and test sets\n",
    "\n",
    "\n",
    "- Properties with 6 or more bathrooms and bedrooms were considered outliers and removed.\n",
    "\n",
    "\n",
    "- Properties with a tax value greater than 2,000,000 were considered outliers and removed.\n",
    "\n",
    "\n",
    "- Properties with a square footage greater than 10,000 ft^2 were considered outliers and removed.\n",
    "\n",
    "\n",
    "- We are left with 50790 rows, 97% of data remains after cleaning"
   ]
  },
  {
   "cell_type": "markdown",
   "id": "467a7af9",
   "metadata": {},
   "source": [
    "# Data Dictionary"
   ]
  },
  {
   "cell_type": "markdown",
   "id": "8ba809b5",
   "metadata": {},
   "source": [
    "| Feature | Definition |\n",
    "| :- | :- |\n",
    "| bedrooms | Integer, # of bedrooms in a property |\n",
    "| bathrooms | Decimal value, # of bathrooms in a property, including fractional bathrooms |\n",
    "| sq_feet | Integer, calculated total living area in a property |\n",
    "| tax_value | Integer, total tax assessed value of the parcel, our target variable |\n",
    "| year_built | Integer, the year a property was built |\n",
    "| tax_amount | Decimal value, total property tax assessed for that assessment year |\n",
    "| fips | Integer, Federal Information Processing Standard code (county) |"
   ]
  },
  {
   "cell_type": "code",
   "execution_count": null,
   "id": "ce432490",
   "metadata": {},
   "outputs": [],
   "source": [
    "# Data split into train, validate, and test\n",
    "train, validate, test = w.split_data(df)"
   ]
  },
  {
   "cell_type": "markdown",
   "id": "e280a016",
   "metadata": {},
   "source": [
    "# Explore"
   ]
  },
  {
   "cell_type": "markdown",
   "id": "2a51a3e0",
   "metadata": {},
   "source": [
    "## Questions:\n",
    "\n",
    "- Are the number of bedrooms related to tax value?\n",
    "\n",
    "\n",
    "- Are the number of bathrooms related to tax value?\n",
    "\n",
    "\n",
    "- Is square footage related to tax value?\n",
    "\n",
    "\n",
    "- Is there an equal distribution of properties in each county?"
   ]
  },
  {
   "cell_type": "markdown",
   "id": "e2a6ccc0",
   "metadata": {},
   "source": [
    "# Are the number of bedrooms related to tax value?"
   ]
  },
  {
   "cell_type": "code",
   "execution_count": null,
   "id": "811054f4",
   "metadata": {
    "scrolled": true
   },
   "outputs": [],
   "source": [
    "# get visualization of bedrooms v tax value\n",
    "v.get_strip('bedrooms')"
   ]
  },
  {
   "cell_type": "markdown",
   "id": "b1050ed0",
   "metadata": {},
   "source": [
    "- There appears to be more properties at a higher tax value that have 2 or more bedrooms."
   ]
  },
  {
   "cell_type": "markdown",
   "id": "eb6fe9a5",
   "metadata": {},
   "source": [
    "#### I will use a correlation test to determine if 'bedrooms' and 'tax_value' are related.\n",
    "\n",
    "- I will use a confidence interval of 95% with alpha set to .05"
   ]
  },
  {
   "cell_type": "markdown",
   "id": "f9c9fda0",
   "metadata": {},
   "source": [
    "#### Ho: 'bedrooms' and 'tax_value' are independent of each other.\n",
    "\n",
    "#### Ha: 'bedrooms' and 'tax_value' are related."
   ]
  },
  {
   "cell_type": "code",
   "execution_count": null,
   "id": "80c78c2d",
   "metadata": {
    "scrolled": false
   },
   "outputs": [],
   "source": [
    "# get correlation test\n",
    "v.get_corr('bedrooms')"
   ]
  },
  {
   "cell_type": "markdown",
   "id": "ca488042",
   "metadata": {},
   "source": [
    "### The p-value is lower than our alpha, giving us the evidence to support that a relationship exists between 'bedrooms' and 'tax_value'. With our null hypothesis rejected, and the positive correlation observed in the train data, I believe that using 'bedrooms' in modeling will likely have a significant positive impact on the model's accuracy."
   ]
  },
  {
   "cell_type": "markdown",
   "id": "28c051ca",
   "metadata": {},
   "source": [
    "# Are the number of bathrooms related to tax value?"
   ]
  },
  {
   "cell_type": "code",
   "execution_count": null,
   "id": "b79ffad9",
   "metadata": {
    "scrolled": true
   },
   "outputs": [],
   "source": [
    "# get visualization of bathrooms v tax value\n",
    "v.get_strip('bathrooms')"
   ]
  },
  {
   "cell_type": "markdown",
   "id": "ebc881e1",
   "metadata": {},
   "source": [
    "- There appears to be more properties at a higher tax value that have 2 or more bathrooms.\n",
    "\n",
    "\n",
    "- There is a significant number of properties that had a transaction occur with only 1 bathroom."
   ]
  },
  {
   "cell_type": "markdown",
   "id": "18d33bc1",
   "metadata": {},
   "source": [
    "#### I will use a correlation test to determine if 'bathrooms' and 'tax_value' are related.\n",
    "\n",
    "- I will use a confidence interval of 95% with alpha set to .05"
   ]
  },
  {
   "cell_type": "markdown",
   "id": "8ec924f6",
   "metadata": {},
   "source": [
    "#### Ho: 'bathrooms' and 'tax_value' are independent of each other.\n",
    "\n",
    "#### Ha: 'bathrooms' and 'tax_value' are related."
   ]
  },
  {
   "cell_type": "code",
   "execution_count": null,
   "id": "6b5eaee5",
   "metadata": {
    "scrolled": false
   },
   "outputs": [],
   "source": [
    "# get correlation test\n",
    "v.get_corr('bathrooms')"
   ]
  },
  {
   "cell_type": "markdown",
   "id": "67e6f827",
   "metadata": {},
   "source": [
    "### The p-value is lower than our alpha, giving us the evidence to support that a relationship exists between 'bathrooms' and 'tax_value'. With our null hypothesis rejected, and the positive correlation observed in the train data, I believe that using 'bathrooms' in modeling will likely have a significant positive impact on the model's accuracy."
   ]
  },
  {
   "cell_type": "markdown",
   "id": "bcb3734e",
   "metadata": {},
   "source": [
    "# Is square footage related to tax value?"
   ]
  },
  {
   "cell_type": "code",
   "execution_count": null,
   "id": "aeeaaa0e",
   "metadata": {
    "scrolled": true
   },
   "outputs": [],
   "source": [
    "# get visualization of sq feet v tax value\n",
    "v.get_scatter_sq_feet()"
   ]
  },
  {
   "cell_type": "markdown",
   "id": "686b0f3f",
   "metadata": {},
   "source": [
    "- It appears to be that properties with more square footage have a higher tax value."
   ]
  },
  {
   "cell_type": "markdown",
   "id": "3c6540c6",
   "metadata": {},
   "source": [
    "#### I will use a correlation test to determine if 'sq_feet' and 'tax_value' are related.\n",
    "\n",
    "- I will use a confidence interval of 95% with alpha set to .05"
   ]
  },
  {
   "cell_type": "markdown",
   "id": "4175221d",
   "metadata": {},
   "source": [
    "#### Ho: 'sq_feet' and 'tax_value' are independent of each other.\n",
    "\n",
    "#### Ha: 'sq_feet' and 'tax_value' are related."
   ]
  },
  {
   "cell_type": "code",
   "execution_count": null,
   "id": "1b735773",
   "metadata": {
    "scrolled": false
   },
   "outputs": [],
   "source": [
    "# get correlation test\n",
    "v.get_corr('sq_feet')"
   ]
  },
  {
   "cell_type": "markdown",
   "id": "c4ebde4b",
   "metadata": {},
   "source": [
    "### The p-value is lower than our alpha, giving us the evidence to support that a relationship exists between 'sq_feet' and 'tax_value'. With our null hypothesis rejected, and the positive correlation observed in the train data, I believe that using 'sq_feet' in modeling will likely have a significant positive impact on the model's accuracy."
   ]
  },
  {
   "cell_type": "markdown",
   "id": "81cd6101",
   "metadata": {},
   "source": [
    "# Is there an equal distribution of properties in each county?"
   ]
  },
  {
   "cell_type": "code",
   "execution_count": null,
   "id": "89509740",
   "metadata": {},
   "outputs": [],
   "source": [
    "# get visualization of property count per county\n",
    "v.get_fips()"
   ]
  },
  {
   "cell_type": "markdown",
   "id": "04600130",
   "metadata": {},
   "source": [
    "- There appears to be an uneven distribution of properties in each county that had a transaction in 2017. Keep this in consideration once models are evaluated."
   ]
  },
  {
   "cell_type": "markdown",
   "id": "a0347f12",
   "metadata": {},
   "source": [
    "## Exploration Summary"
   ]
  },
  {
   "cell_type": "markdown",
   "id": "d59f2b26",
   "metadata": {},
   "source": [
    "- 'bedrooms' was found to be a driver of 'tax_value'\n",
    "\n",
    "\n",
    "- 'bathrooms' was found to be a driver of 'tax_value'\n",
    "\n",
    "\n",
    "- 'sq_feet' was found to be a driver of 'tax_value'\n",
    "\n",
    "\n",
    "- Property distribution is uneven between 'fips'"
   ]
  },
  {
   "cell_type": "markdown",
   "id": "bbbe4e59",
   "metadata": {},
   "source": [
    "## Features To Move Forward With"
   ]
  },
  {
   "cell_type": "markdown",
   "id": "009350c6",
   "metadata": {},
   "source": [
    "- 'bedrooms' (correlation is fairly low, but statistically significant)\n",
    "\n",
    "\n",
    "- 'bathrooms' (correlation is signicant and will be used in modeling)\n",
    "\n",
    "\n",
    "- 'sq_feet' (correlation is significant and will be used in modeling)\n"
   ]
  },
  {
   "cell_type": "markdown",
   "id": "9de15d4c",
   "metadata": {},
   "source": [
    "## Modeling\n",
    "\n",
    "- I will use RMSE as my evaluation metric.\n",
    "\n",
    "\n",
    "- Models will be evaluated on train and validate data.\n",
    "\n",
    "\n",
    "- Model that performs best will move on to be evalutated against the test data set."
   ]
  },
  {
   "cell_type": "code",
   "execution_count": null,
   "id": "2810ccca",
   "metadata": {},
   "outputs": [],
   "source": [
    "# scaling data for improved model perforance\n",
    "train_scaled, validate_scaled, test_scaled = w.scale_data(train, validate, test)"
   ]
  },
  {
   "cell_type": "code",
   "execution_count": null,
   "id": "811e07a3",
   "metadata": {},
   "outputs": [],
   "source": [
    "# separation of data for x sets and y sets\n",
    "x_train_scaled = train_scaled[['bedrooms', 'bathrooms', 'sq_feet']]\n",
    "y_train = train[['tax_value']]\n",
    "\n",
    "x_validate_scaled = validate_scaled[['bedrooms', 'bathrooms', 'sq_feet']]\n",
    "y_validate = validate[['tax_value']]\n",
    "\n",
    "x_test_scaled = test_scaled[['bedrooms', 'bathrooms', 'sq_feet']]\n",
    "y_test = test[['tax_value']]"
   ]
  },
  {
   "cell_type": "markdown",
   "id": "854e1caa",
   "metadata": {},
   "source": [
    "## Baseline"
   ]
  },
  {
   "cell_type": "code",
   "execution_count": null,
   "id": "a334256a",
   "metadata": {
    "scrolled": false
   },
   "outputs": [],
   "source": [
    "# get baseline model with mean and median\n",
    "m.get_baseline()"
   ]
  },
  {
   "cell_type": "markdown",
   "id": "dcd8fb4a",
   "metadata": {},
   "source": [
    "- The baseline model is off by an average of 347,152.80 using the Mean tax value and an average of 355,040.41 using the median tax value of our data."
   ]
  },
  {
   "cell_type": "markdown",
   "id": "edfb681f",
   "metadata": {},
   "source": [
    "## LinearRegression (OLS)"
   ]
  },
  {
   "cell_type": "code",
   "execution_count": null,
   "id": "4b0a1e8c",
   "metadata": {},
   "outputs": [],
   "source": [
    "# get ols results\n",
    "m.get_ols()"
   ]
  },
  {
   "cell_type": "markdown",
   "id": "ba3407b0",
   "metadata": {},
   "source": [
    "- The OLS model is off by an average of 281,570.92 on validate.\n",
    "\n",
    "\n",
    "- RMSE is better than baseline."
   ]
  },
  {
   "cell_type": "markdown",
   "id": "a5ac41cb",
   "metadata": {},
   "source": [
    "## LassoLars"
   ]
  },
  {
   "cell_type": "code",
   "execution_count": null,
   "id": "7ba78b2d",
   "metadata": {
    "scrolled": true
   },
   "outputs": [],
   "source": [
    "# get lassolars results\n",
    "m.get_lassolars()"
   ]
  },
  {
   "cell_type": "markdown",
   "id": "1bdb040c",
   "metadata": {},
   "source": [
    "- The LassoLars model is off by an average of 281,570.55 on validate.\n",
    "\n",
    "\n",
    "- RMSE is better than baseline."
   ]
  },
  {
   "cell_type": "markdown",
   "id": "fcd17f82",
   "metadata": {},
   "source": [
    "## TweedieRegressor (GLM)"
   ]
  },
  {
   "cell_type": "code",
   "execution_count": null,
   "id": "222a24c1",
   "metadata": {
    "scrolled": true
   },
   "outputs": [],
   "source": [
    "# get tweedie results\n",
    "m.get_tweedie()"
   ]
  },
  {
   "cell_type": "markdown",
   "id": "d8f3a8be",
   "metadata": {},
   "source": [
    "- The TweedieRegressor model is off by an average of 288237.90 on validate.\n",
    "\n",
    "\n",
    "- RMSE is better than baseline."
   ]
  },
  {
   "cell_type": "markdown",
   "id": "dd6f8f49",
   "metadata": {},
   "source": [
    "## Polynomial Regression"
   ]
  },
  {
   "cell_type": "code",
   "execution_count": null,
   "id": "b4647e7b",
   "metadata": {
    "scrolled": true
   },
   "outputs": [],
   "source": [
    "# get poly results\n",
    "m.get_poly()"
   ]
  },
  {
   "cell_type": "markdown",
   "id": "8e69f49f",
   "metadata": {},
   "source": [
    "- The Polynomial Regression model is off by an average of 280,525.27 on validate.\n",
    "\n",
    "\n",
    "- RMSE is better than baseline."
   ]
  },
  {
   "cell_type": "markdown",
   "id": "1ecc4ceb",
   "metadata": {},
   "source": [
    "## Comparing Models"
   ]
  },
  {
   "cell_type": "markdown",
   "id": "01a0687f",
   "metadata": {},
   "source": [
    "- All models performed better than baseline on train and validate.\n",
    "\n",
    "\n",
    "- Polynomial Regression yielded the lowest RMSE of all models and will move on to test set."
   ]
  },
  {
   "cell_type": "markdown",
   "id": "9f68c9f5",
   "metadata": {},
   "source": [
    "## Polynomial Regression on Test"
   ]
  },
  {
   "cell_type": "code",
   "execution_count": null,
   "id": "85e1cf40",
   "metadata": {
    "scrolled": false
   },
   "outputs": [],
   "source": [
    "# get test results for final model\n",
    "m.get_poly_test()"
   ]
  },
  {
   "cell_type": "markdown",
   "id": "9d3b6935",
   "metadata": {},
   "source": [
    "### Calculating R^2 Coefficient for Variance"
   ]
  },
  {
   "cell_type": "code",
   "execution_count": null,
   "id": "bd4f9b94",
   "metadata": {},
   "outputs": [],
   "source": [
    "# get model performance for R^2 evaluation\n",
    "m.performance()"
   ]
  },
  {
   "cell_type": "markdown",
   "id": "ce141bd0",
   "metadata": {},
   "source": [
    "- Our features chosen explain roughly 35% of the variance in tax value."
   ]
  },
  {
   "cell_type": "markdown",
   "id": "66168981",
   "metadata": {},
   "source": [
    "## Modeling Summary"
   ]
  },
  {
   "cell_type": "markdown",
   "id": "65523cb0",
   "metadata": {},
   "source": [
    "- All models performed better than baseline.\n",
    "\n",
    "\n",
    "- Polynomial Regression model performed best.\n",
    "\n",
    "\n",
    "- Polynomial Regression model on test performed slightly worse than on validate, but better than baseline model overall."
   ]
  },
  {
   "cell_type": "markdown",
   "id": "19cf548e",
   "metadata": {},
   "source": [
    "# Conclusions"
   ]
  },
  {
   "cell_type": "markdown",
   "id": "54910819",
   "metadata": {},
   "source": [
    "### Exploration"
   ]
  },
  {
   "cell_type": "markdown",
   "id": "e7734ab0",
   "metadata": {},
   "source": [
    "- There is a positive correlation between the number of bedrooms and tax value of a property.\n",
    "\n",
    "\n",
    "- There is a positive correlation between the number of bathrooms and tax value of a property.\n",
    "\n",
    "\n",
    "- There is a positive correlation between the amount of square footage and tax value of a property.\n",
    "\n",
    "\n",
    "- There is an uneven distribution of properties in the Los Angeles County, Orange County, an Ventura County."
   ]
  },
  {
   "cell_type": "markdown",
   "id": "d5fd28e7",
   "metadata": {},
   "source": [
    "### Modeling"
   ]
  },
  {
   "cell_type": "markdown",
   "id": "c6d1cb41",
   "metadata": {},
   "source": [
    "#### The final model outperformed baseline, but R^2 is low.\n",
    "\n",
    "#### Possible reason for this:\n",
    "\n",
    "- 'bedrooms', 'bathrooms', and 'sq_feet' are significant drivers of tax value.\n",
    "\n",
    "\n",
    "- 'fips', or the county where the property is located, is also a driver of tax value.\n",
    "\n",
    "\n",
    "- The county where a property is located may significantly impact tax value.\n",
    "\n",
    "### Using the model is better than no model at all."
   ]
  },
  {
   "cell_type": "markdown",
   "id": "cf9bb562",
   "metadata": {},
   "source": [
    "## Recommendations\n",
    "\n",
    "- Continue to focus on the number of bedrooms, bathrooms, and square footage of homes as drivers of tax value.\n",
    "\n",
    "\n",
    "- Evaluate the tax value of properties when properties are separated into their respective counties.\n",
    "\n",
    "\n",
    "- Create a model for each county that had properties with a transaction."
   ]
  },
  {
   "cell_type": "markdown",
   "id": "4d5b6c8f",
   "metadata": {},
   "source": [
    "## Next Steps\n",
    "\n",
    "- Further investigate how strong 'fips' influences tax value.\n",
    "\n",
    "\n",
    "- Construct additional models with properties separated by their counties and evaluate model performance then."
   ]
  }
 ],
 "metadata": {
  "kernelspec": {
   "display_name": "Python 3 (ipykernel)",
   "language": "python",
   "name": "python3"
  },
  "language_info": {
   "codemirror_mode": {
    "name": "ipython",
    "version": 3
   },
   "file_extension": ".py",
   "mimetype": "text/x-python",
   "name": "python",
   "nbconvert_exporter": "python",
   "pygments_lexer": "ipython3",
   "version": "3.9.12"
  }
 },
 "nbformat": 4,
 "nbformat_minor": 5
}
