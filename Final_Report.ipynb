{
 "cells": [
  {
   "cell_type": "markdown",
   "id": "9b022217",
   "metadata": {},
   "source": [
    "# Some Title\n",
    "\n",
    "## Goals:\n",
    "\n",
    "- Explore the effects of the number of bedrooms, bathrooms and square footage of Single Family Properties that had a transaction in 2017.\n",
    "\n",
    "- Construct a ML regression model that accurately predicts property tax value."
   ]
  },
  {
   "cell_type": "markdown",
   "id": "b484ba76",
   "metadata": {},
   "source": [
    "# Imports"
   ]
  },
  {
   "cell_type": "code",
   "execution_count": 1,
   "id": "9504515c",
   "metadata": {},
   "outputs": [],
   "source": [
    "import numpy as np\n",
    "import pandas as pd\n",
    "import seaborn as sns\n",
    "import math\n",
    "import matplotlib.pyplot as plt\n",
    "\n",
    "import wrangle as w\n",
    "import explore as e\n",
    "#import stat_analysis_viz as viz\n",
    "#import modeling_eval as \n",
    "\n",
    "import env\n",
    "from scipy import stats\n",
    "\n",
    "from sklearn.model_selection import train_test_split\n",
    "from sklearn.feature_selection import SelectKBest, RFE, f_regression, SequentialFeatureSelector\n",
    "from sklearn.linear_model import LinearRegression, LassoLars, TweedieRegressor\n",
    "from sklearn.metrics import mean_squared_error\n",
    "from sklearn.preprocessing import MinMaxScaler, StandardScaler, RobustScaler, QuantileTransformer, PolynomialFeatures\n",
    "\n",
    "import warnings\n",
    "warnings.filterwarnings(\"ignore\")"
   ]
  },
  {
   "cell_type": "markdown",
   "id": "e85dbbf3",
   "metadata": {},
   "source": [
    "# Acquire\n",
    "\n",
    "- Data acquired from zillow database\n",
    "- It contained 52,441 rows and 7 columns before cleaning\n",
    "- Each row represents a Single Family Property that had a transaction in 2017\n",
    "- Each column represents a feature that describes the Single Property Home"
   ]
  },
  {
   "cell_type": "code",
   "execution_count": 2,
   "id": "de010a16",
   "metadata": {},
   "outputs": [],
   "source": [
    "# Acquiring data and clean-up\n",
    "df = w.wrangle_zillow()"
   ]
  },
  {
   "cell_type": "markdown",
   "id": "94dafce4",
   "metadata": {},
   "source": [
    "# Prepare\n",
    "\n",
    "- Check for nulls (nulls were found and removed)\n",
    "- Renamed columns for readability\n",
    "- Optimized data types to integers where possible without losing data\n",
    "- Split data into train, validate, and test sets\n",
    "- Properties with 6 or more bathrooms and bedrooms were considered outliers and removed.\n",
    "- Properties with a tax value greater than 2,000,000 were considered outliers and removed.\n",
    "- Properties with a square footage greater than 10,000 ft^2 were considered outliers and removed.\n",
    "- We are left with 50790 rows, 97% of data remains after cleaning"
   ]
  },
  {
   "cell_type": "markdown",
   "id": "e5ce6abe",
   "metadata": {},
   "source": [
    "# Data Dictionary (needs editing)"
   ]
  },
  {
   "cell_type": "markdown",
   "id": "69f552a5",
   "metadata": {},
   "source": [
    "| Feature | Definition |\n",
    "| :- | :- |\n",
    "| bedrooms | Integer, # of bedrooms in a property |\n",
    "| bathrooms | Decimal value, # of bathrooms in a property, including fractional bathrooms |\n",
    "| sq_feet | Integer, calculated total living area in a property |\n",
    "| tax_value | Integer, total tax assessed value of the parcel, our target variable |\n",
    "| year_built | Integer, the year a property was built |\n",
    "| tax_amount | Decimal value, total property tax assessed for that assessment year |\n",
    "| fips | Integer, Federal Information Processing Standard code |"
   ]
  },
  {
   "cell_type": "code",
   "execution_count": 3,
   "id": "4e7150b0",
   "metadata": {},
   "outputs": [],
   "source": [
    "# Data split into train, validate, and test\n",
    "train, validate, test = w.split_data(df)"
   ]
  },
  {
   "cell_type": "markdown",
   "id": "ae028366",
   "metadata": {},
   "source": [
    "# Explore"
   ]
  },
  {
   "cell_type": "markdown",
   "id": "41dbe8ec",
   "metadata": {},
   "source": [
    "## Questions:\n",
    "\n",
    "- Are the number of bedrooms related to tax value?\n",
    "\n",
    "- Are the number of bathrooms related to tax value?\n",
    "\n",
    "- Is square footage related to tax value?"
   ]
  },
  {
   "cell_type": "code",
   "execution_count": null,
   "id": "5f881981",
   "metadata": {},
   "outputs": [],
   "source": []
  }
 ],
 "metadata": {
  "kernelspec": {
   "display_name": "Python 3 (ipykernel)",
   "language": "python",
   "name": "python3"
  },
  "language_info": {
   "codemirror_mode": {
    "name": "ipython",
    "version": 3
   },
   "file_extension": ".py",
   "mimetype": "text/x-python",
   "name": "python",
   "nbconvert_exporter": "python",
   "pygments_lexer": "ipython3",
   "version": "3.9.12"
  }
 },
 "nbformat": 4,
 "nbformat_minor": 5
}
